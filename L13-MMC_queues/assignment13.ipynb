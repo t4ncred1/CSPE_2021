{
 "cells": [
  {
   "cell_type": "markdown",
   "id": "9e06e0a7",
   "metadata": {},
   "source": [
    "# Assignment 13\n",
    "\n",
    "This assignment is divided in three parts in which we are asked to model different queues.\n",
    "\n",
    "## Part 1 - Performance indices of an M/M/2 queue\n",
    "\n",
    "Consider a dual-core server that executes jobs arriving according to a Poisson process with rate $\\lambda$ = 0.95 $\\frac{job}{s}$,  and serves them with an average service time $D$ = 1.8 s."
   ]
  },
  {
   "cell_type": "code",
   "execution_count": 1,
   "id": "690b4902",
   "metadata": {},
   "outputs": [],
   "source": [
    "l_mm2 = 0.95\n",
    "D_mm2 = 1.8\n",
    "mu_mm2 = 1/D_mm2"
   ]
  },
  {
   "cell_type": "markdown",
   "id": "31492ba2",
   "metadata": {},
   "source": [
    "### Requests\n",
    "- Compute the average utilization\n",
    "- Compute the probability of having 4 jobs in the system\n",
    "- Compute the average number of jobs in the system\n",
    "- Compute the average response time and the average time spent in the queue\n",
    "- Compare the previous results with the ones of an M/M/1 system, with average service D = 0.9 s."
   ]
  },
  {
   "cell_type": "markdown",
   "id": "fd09de11",
   "metadata": {},
   "source": [
    "### Average Utilization\n",
    "To compute the average utilization of a system with two cores we simply divide the utilization found with the general formula by two."
   ]
  },
  {
   "cell_type": "code",
   "execution_count": 2,
   "id": "98930766",
   "metadata": {
    "scrolled": true
   },
   "outputs": [
    {
     "name": "stdout",
     "output_type": "stream",
     "text": [
      "The average utilization of the system is 0.8550\n"
     ]
    }
   ],
   "source": [
    "U_mm2 = l_mm2/mu_mm2\n",
    "Uavg_mm2 = U_mm2/2\n",
    "rho_mm2 = Uavg_mm2\n",
    "\n",
    "print(\"The average utilization of the system is {:.4f}\".format(Uavg_mm2))"
   ]
  },
  {
   "cell_type": "markdown",
   "id": "9d082afd",
   "metadata": {},
   "source": [
    "### Probabilities\n",
    "\n",
    "The probability of being in each state can be computed through the formula $$\\pi_{n} = \\pi_{0}\\cdot\\frac{\\lambda}{\\mu}\\left(\\frac{\\lambda}{2\\mu}\\right)^{n-1}$$\n",
    "where $$\\pi_{0} = \\frac{2\\mu-\\lambda}{2\\mu+\\lambda}$$"
   ]
  },
  {
   "cell_type": "code",
   "execution_count": 3,
   "id": "5f9cb026",
   "metadata": {},
   "outputs": [
    {
     "name": "stdout",
     "output_type": "stream",
     "text": [
      "The probability of having 4 jobs in the system is 8.354463%\n"
     ]
    }
   ],
   "source": [
    "def prob_mm2(n):\n",
    "    if n > 0:\n",
    "        p = 2*prob_mm2(0)*(l_mm2/(2*mu_mm2))**n\n",
    "    else: \n",
    "        p = (2*mu_mm2 - l_mm2)/(2*mu_mm2 + l_mm2)\n",
    "    return p\n",
    "\n",
    "print(\"The probability of having 4 jobs in the system is {:%}\".format(prob_mm2(4)))"
   ]
  },
  {
   "cell_type": "markdown",
   "id": "e228f214",
   "metadata": {},
   "source": [
    "### Average number of jobs in the system\n",
    "\n",
    "The average number of jobs in the system is computed with the usual formula $$N = \\sum_{n=1}^{\\infty}n\\cdot\\pi_{n}$$\n",
    "\n",
    "In this case, the formula winds up to be $$N = \\frac{2\\rho}{1-\\rho^2}$$"
   ]
  },
  {
   "cell_type": "code",
   "execution_count": 4,
   "id": "9c8657a2",
   "metadata": {},
   "outputs": [
    {
     "name": "stdout",
     "output_type": "stream",
     "text": [
      "The average number of jobs in the system is 6.3575\n"
     ]
    }
   ],
   "source": [
    "N_mm2 = (2*rho_mm2)/(1-(rho_mm2**2))\n",
    "print(\"The average number of jobs in the system is {:.4f}\".format(N_mm2))"
   ]
  },
  {
   "cell_type": "markdown",
   "id": "167239f2",
   "metadata": {},
   "source": [
    "### Average response time\n",
    "\n",
    "The average response time can be computed with the application of Little's Law: $$R = \\frac{N}{X} = \\frac{\\frac{2\\rho}{1-\\rho^{2}}}{\\lambda} = \\frac{D}{1-\\rho^{2}}$$"
   ]
  },
  {
   "cell_type": "code",
   "execution_count": 5,
   "id": "94ac8294",
   "metadata": {},
   "outputs": [
    {
     "name": "stdout",
     "output_type": "stream",
     "text": [
      "The average response time of the system is 6.6921\n"
     ]
    }
   ],
   "source": [
    "R_mm2 = N_mm2/l_mm2\n",
    "print(\"The average response time of the system is {:.4f}\".format(R_mm2))"
   ]
  },
  {
   "cell_type": "markdown",
   "id": "10d0efa2",
   "metadata": {},
   "source": [
    "At this point we can also compute the average time spent in queue, which as always is: \n",
    "\n",
    "$$\\Theta = R - D$$"
   ]
  },
  {
   "cell_type": "code",
   "execution_count": 6,
   "id": "efb30c4d",
   "metadata": {},
   "outputs": [
    {
     "name": "stdout",
     "output_type": "stream",
     "text": [
      "The average time spent in queue is 4.8921\n"
     ]
    }
   ],
   "source": [
    "theta_mm2 = R_mm2 - D_mm2\n",
    "print(\"The average time spent in queue is {:.4f}\".format(theta_mm2))"
   ]
  },
  {
   "cell_type": "markdown",
   "id": "b617800e",
   "metadata": {},
   "source": [
    "### Comparison with an M/M/1 system\n",
    "The system taken into consideration will have:\n",
    "- $\\lambda$ = 0.95 $s^{-1}$\n",
    "- $D$ = 0.9 $s$"
   ]
  },
  {
   "cell_type": "code",
   "execution_count": 7,
   "id": "f610cd20",
   "metadata": {
    "scrolled": true
   },
   "outputs": [
    {
     "name": "stdout",
     "output_type": "stream",
     "text": [
      "Performance index     M/M/2      M/M/1   \n",
      "\n",
      "Utilization           1.7100     0.8550\n",
      "P(N = 4)              0.0835     0.0775\n",
      "avg Number of Jobs    6.3575     5.8966\n",
      "Response time         6.6921     6.2069\n",
      "avg Queue Lenght      4.8921     5.3069\n"
     ]
    }
   ],
   "source": [
    "l_mm1 = 0.95\n",
    "D_mm1 = 0.9\n",
    "mu_mm1 = 1/D_mm1\n",
    "rho_mm1 = l_mm1/mu_mm1\n",
    "\n",
    "U_mm1 = rho_mm1\n",
    "\n",
    "prob_4_mm1 = (1-rho_mm1) * (rho_mm1)**4\n",
    "\n",
    "N_mm1 = rho_mm1/(1-rho_mm1)\n",
    "\n",
    "R_mm1 = 1/(mu_mm1 - l_mm1)\n",
    "\n",
    "theta_mm1 = R_mm1 - D_mm1\n",
    "\n",
    "elements = [[\"Utilization\", U_mm2, U_mm1],\n",
    "            [\"P(N = 4)\", prob_mm2(4), prob_4_mm1],\n",
    "            [\"avg Number of Jobs\", N_mm2, N_mm1],\n",
    "            [\"Response time\", R_mm2, R_mm1],\n",
    "            [\"avg Queue Lenght\", theta_mm2, theta_mm1]]\n",
    "print(\"{:<19}   {:<8}   {:<8}\\n\".format('Performance index', 'M/M/2', 'M/M/1'))\n",
    "\n",
    "for row in elements:\n",
    "    name, mm2, mm1 = row\n",
    "    print(\"{:<19}   {:1.4f}     {:1.4f}\".format(name, mm2, mm1))"
   ]
  },
  {
   "cell_type": "markdown",
   "id": "29944cb8",
   "metadata": {},
   "source": [
    "## Part 2 - Performance indices of an M/M/3 queue\n",
    "Consider an M/M/3 system, with arrival rate $\\lambda$ = 0.95 $\\frac{job}{s}$, and average service time $D$ = 2.7 s."
   ]
  },
  {
   "cell_type": "code",
   "execution_count": 8,
   "id": "9fc45016",
   "metadata": {},
   "outputs": [],
   "source": [
    "l_mm3 = 0.95\n",
    "D_mm3 = 2.7\n",
    "mu_mm3 = 1/D_mm3"
   ]
  },
  {
   "cell_type": "markdown",
   "id": "61300177",
   "metadata": {},
   "source": [
    "### Requests\n",
    "- Compute the average utilization\n",
    "- Compute the probability of having 4 jobs in the system\n",
    "- Compute the average number of jobs in the system\n",
    "- Compute the average response time and the average time spent in the queue\n",
    "- Compare the previous results with the ones of an M/M/1 system, with average service D = 0.9 s, and the ones of an M/M/2 system, with D = 1.8 s."
   ]
  },
  {
   "cell_type": "markdown",
   "id": "b25e635d",
   "metadata": {},
   "source": [
    "### Average Utilization\n",
    "To compute the average utilization of a system with two cores we simply divide the utilization found with the general formula by three."
   ]
  },
  {
   "cell_type": "code",
   "execution_count": 9,
   "id": "43559876",
   "metadata": {
    "scrolled": false
   },
   "outputs": [
    {
     "name": "stdout",
     "output_type": "stream",
     "text": [
      "The average utilization of the system is 0.8550\n"
     ]
    }
   ],
   "source": [
    "U_mm3 = l_mm3/mu_mm3\n",
    "Uavg_mm3 = U_mm3/3\n",
    "rho_mm3 = Uavg_mm3\n",
    "\n",
    "print(\"The average utilization of the system is {:.4f}\".format(Uavg_mm3))"
   ]
  },
  {
   "cell_type": "markdown",
   "id": "c34b496e",
   "metadata": {},
   "source": [
    "### Probabilities\n",
    "\n",
    "The probability of being in each state can be computed through the formula\n",
    "\n",
    "$$ \\begin{equation}\n",
    "    \\pi_{n} = \n",
    "    \\begin{cases}\n",
    "      \\frac{\\pi_{0}}{n!}\\cdot(c\\rho)^{n} &n < c\\\\\n",
    "      \\frac{\\pi_{0}c^{c}\\rho^{n}}{c!} &n \\geq c\n",
    "      \\end{cases}\n",
    "\\end{equation}$$\n",
    "\n",
    "where $$\\pi_{0} = \\left[\\frac{(c\\rho)^{c}}{c!}\\cdot\\frac{1}{1-\\rho}+\\sum_{k=0}^{c-1}\\frac{(c\\rho)^{k}}{k!}\\right]^{-1}$$"
   ]
  },
  {
   "cell_type": "code",
   "execution_count": 10,
   "id": "4c34385c",
   "metadata": {},
   "outputs": [
    {
     "name": "stdout",
     "output_type": "stream",
     "text": [
      "The probability of having 4 jobs in the system is 9.160409%\n"
     ]
    }
   ],
   "source": [
    "import math as m\n",
    "def prob_mm3(n):\n",
    "    if n >= 3:\n",
    "        p = prob_mm3(0)*9*(rho_mm3**n)/2\n",
    "    elif n==0: \n",
    "        p = ((3*rho_mm3)**3/(6*(1-rho_mm3)) + 1 + 3*rho_mm3 + ((3*rho_mm3)**2)/2)**(-1)\n",
    "    else :\n",
    "        p = (prob_mm3(0)/m.factorial(n))*(3*rho_mm3)**n\n",
    "    return p\n",
    "\n",
    "print(\"The probability of having 4 jobs in the system is {:%}\".format(prob_mm3(4)))"
   ]
  },
  {
   "cell_type": "markdown",
   "id": "45103a7a",
   "metadata": {},
   "source": [
    "### Average number of jobs in the system\n",
    "\n",
    "The average number of jobs in the system is computed with the usual formula $$N = \\sum_{n=1}^{\\infty}n\\cdot\\pi_{n}$$\n",
    "\n",
    "In the general M/M/c case, the formula winds up to be $$N = c\\rho + \\frac{\\frac{\\rho}{1-\\rho}}{1 + (1-\\rho)\\left(\\frac{c!}{(c\\rho)^{c}}\\right)\\sum_{k=0}^{c-1}\\frac{(c\\rho)^{k}}{k!}}$$"
   ]
  },
  {
   "cell_type": "code",
   "execution_count": 11,
   "id": "9d282aaa",
   "metadata": {},
   "outputs": [
    {
     "name": "stdout",
     "output_type": "stream",
     "text": [
      "The average number of jobs in the system is 6.9219\n"
     ]
    }
   ],
   "source": [
    "N_mm3 = 3 * rho_mm3 + (rho_mm3/(1-rho_mm3))/(1 + (1-rho_mm3)*(6/((3*rho_mm3)**3))*(1 + 3*rho_mm3 + (3*rho_mm3)**2/2))\n",
    "print(\"The average number of jobs in the system is {:.4f}\".format(N_mm3))"
   ]
  },
  {
   "cell_type": "markdown",
   "id": "f4d4b77d",
   "metadata": {},
   "source": [
    "### Average response time\n",
    "\n",
    "The average response time can be computed with the application of Little's Law: $$R = \\frac{N}{X} = \\frac{N}{\\lambda}$$"
   ]
  },
  {
   "cell_type": "code",
   "execution_count": 12,
   "id": "dc553d82",
   "metadata": {},
   "outputs": [
    {
     "name": "stdout",
     "output_type": "stream",
     "text": [
      "The average response time of the system is 7.2862\n"
     ]
    }
   ],
   "source": [
    "R_mm3 = N_mm3/l_mm3\n",
    "print(\"The average response time of the system is {:.4f}\".format(R_mm3))"
   ]
  },
  {
   "cell_type": "markdown",
   "id": "eb44362e",
   "metadata": {},
   "source": [
    "At this point we can also compute the average time spent in queue, which as always is: \n",
    "\n",
    "$$\\Theta = R - D$$"
   ]
  },
  {
   "cell_type": "code",
   "execution_count": 13,
   "id": "e3f3df1e",
   "metadata": {},
   "outputs": [
    {
     "name": "stdout",
     "output_type": "stream",
     "text": [
      "The average time spent in queue is 4.5862\n"
     ]
    }
   ],
   "source": [
    "theta_mm3 = R_mm3 - D_mm3\n",
    "print(\"The average time spent in queue is {:.4f}\".format(theta_mm3))"
   ]
  },
  {
   "cell_type": "markdown",
   "id": "23cc4093",
   "metadata": {},
   "source": [
    "### Comparison with two M/M/1 and M/M/2 systems\n",
    "The systems taken into consideration will have:\n",
    "- M/M/1\n",
    "    - $\\lambda$ = 0.95 $s^{-1}$\n",
    "    - $D$ = 0.9 $s$\n",
    "- M/M/2\n",
    "    - $\\lambda$ = 0.95 $s^{-1}$\n",
    "    - $D$ = 1.8 $s$"
   ]
  },
  {
   "cell_type": "code",
   "execution_count": 14,
   "id": "80c2de82",
   "metadata": {
    "scrolled": true
   },
   "outputs": [
    {
     "name": "stdout",
     "output_type": "stream",
     "text": [
      "Performance index     M/M/3      M/M/2      M/M/1   \n",
      "\n",
      "Utilization           2.5650     1.7100     0.8550\n",
      "P(N = 4)              0.0916     0.0835     0.0775\n",
      "avg Number of Jobs    6.9219     6.3575     5.8966\n",
      "Response time         7.2862     6.6921     6.2069\n",
      "avg Queue Lenght      4.5862     4.8921     5.3069\n"
     ]
    }
   ],
   "source": [
    "elements = [[\"Utilization\", U_mm3, U_mm2, U_mm1],\n",
    "            [\"P(N = 4)\", prob_mm3(4), prob_mm2(4), prob_4_mm1],\n",
    "            [\"avg Number of Jobs\", N_mm3, N_mm2, N_mm1],\n",
    "            [\"Response time\", R_mm3, R_mm2, R_mm1],\n",
    "            [\"avg Queue Lenght\", theta_mm3, theta_mm2, theta_mm1]]\n",
    "print(\"{:<19}   {:<8}   {:<8}   {:<8}\\n\".format('Performance index', 'M/M/3', 'M/M/2', 'M/M/1'))\n",
    "\n",
    "for row in elements:\n",
    "    name, mm3, mm2, mm1 = row\n",
    "    print(\"{:<19}   {:1.4f}     {:1.4f}     {:1.4f}\".format(name, mm3, mm2, mm1))"
   ]
  },
  {
   "cell_type": "markdown",
   "id": "2b6ffd6d",
   "metadata": {},
   "source": [
    "## Part 3 - Performance indices of an M/M/$\\infty$ queue\n",
    "Consider an M/M/$\\infty$ system, with arrival rate $\\lambda$ = 0.95 $\\frac{job}{s}$, and average service time $D$ = 2.7 s."
   ]
  },
  {
   "cell_type": "code",
   "execution_count": 15,
   "id": "6f9cb6cc",
   "metadata": {},
   "outputs": [],
   "source": [
    "l_mminf = 0.95\n",
    "D_mminf = 2.7\n",
    "mu_mminf = 1/D_mminf"
   ]
  },
  {
   "cell_type": "markdown",
   "id": "bee2e5a4",
   "metadata": {},
   "source": [
    "### Requests\n",
    "- Compute the probability of having 4 jobs in the system\n",
    "- Compute the average number of jobs in the system\n",
    "- Compute the average response time and the average time spent in the queue\n",
    "- Compare the previous results with the ones of an M/M/1 system, with average service D = 0.9 s, the ones of an M/M/2 system, with D = 1.8 s, and the ones of an M/M/3 system, with average service D = 2.7 s."
   ]
  },
  {
   "cell_type": "markdown",
   "id": "41829f98",
   "metadata": {},
   "source": [
    "### Probabilities\n",
    "\n",
    "The probability of being in each state can be computed through the formula\n",
    "\n",
    "$$\\pi_{n} = \\frac{\\pi_{0}}{n!}\\cdot\\left(\\frac{\\lambda}{\\mu}\\right)^{n}$$\n",
    "\n",
    "where $$\\pi_{0} = \\left[\\sum_{n=0}^{\\infty}\\frac{1}{n!}\\cdot\\left(\\frac{\\lambda}{\\mu}\\right)^{n}\\right]^{-1} = e^{-\\frac{\\lambda}{\\mu}}$$"
   ]
  },
  {
   "cell_type": "code",
   "execution_count": 16,
   "id": "bca53345",
   "metadata": {},
   "outputs": [
    {
     "name": "stdout",
     "output_type": "stream",
     "text": [
      "The probability of having 4 jobs in the system is 13.873080%\n"
     ]
    }
   ],
   "source": [
    "import math as m\n",
    "def prob_mminf(n):\n",
    "    if n == 0:\n",
    "        p = m.exp(-l_mminf/mu_mminf)\n",
    "    else :\n",
    "        p = ((l_mminf/mu_mminf)**n) * prob_mminf(0)/m.factorial(n)\n",
    "    return p\n",
    "\n",
    "print(\"The probability of having 4 jobs in the system is {:%}\".format(prob_mminf(4)))"
   ]
  },
  {
   "cell_type": "markdown",
   "id": "f62df136",
   "metadata": {},
   "source": [
    "### Average number of jobs in the system\n",
    "\n",
    "Since the number of jobs in the system is distributed like a Poisson distribution with parameter $\\frac{\\lambda}{\\mu}$, the average number of jobs in the system is $$N = \\frac{\\lambda}{\\mu}$$"
   ]
  },
  {
   "cell_type": "code",
   "execution_count": 17,
   "id": "87e5e995",
   "metadata": {},
   "outputs": [
    {
     "name": "stdout",
     "output_type": "stream",
     "text": [
      "The average number of jobs in the system is 2.5650\n"
     ]
    }
   ],
   "source": [
    "N_mminf = l_mminf/mu_mminf\n",
    "\n",
    "print(\"The average number of jobs in the system is {:.4f}\".format(N_mminf))"
   ]
  },
  {
   "cell_type": "markdown",
   "id": "2ea9cb03",
   "metadata": {},
   "source": [
    "### Average response time\n",
    "\n",
    "The average response time can be computed with the application of Little's Law: $$R = \\frac{N}{X} = \\frac{N}{\\lambda}$$"
   ]
  },
  {
   "cell_type": "code",
   "execution_count": 18,
   "id": "3dbf8b5f",
   "metadata": {},
   "outputs": [
    {
     "name": "stdout",
     "output_type": "stream",
     "text": [
      "The average response time of the system is 2.7000\n"
     ]
    }
   ],
   "source": [
    "R_mminf = N_mminf/l_mminf\n",
    "print(\"The average response time of the system is {:.4f}\".format(R_mminf))"
   ]
  },
  {
   "cell_type": "markdown",
   "id": "af48fdb9",
   "metadata": {},
   "source": [
    "As we can notice, the average response time is equal to the average service time.\n",
    "\n",
    "This is correct: the time spent in queue will always be 0 since there will always be a free core waiting for the next job. "
   ]
  },
  {
   "cell_type": "code",
   "execution_count": 19,
   "id": "11a3b867",
   "metadata": {},
   "outputs": [
    {
     "name": "stdout",
     "output_type": "stream",
     "text": [
      "The average time spent in queue is 0.0000\n"
     ]
    }
   ],
   "source": [
    "theta_mminf = R_mminf - D_mminf\n",
    "print(\"The average time spent in queue is {:.4f}\".format(theta_mminf))"
   ]
  },
  {
   "cell_type": "markdown",
   "id": "3d8a4a5a",
   "metadata": {},
   "source": [
    "### Comparison with an M/M/1, an M/M/2 and an M/M/3 system\n",
    "The systems taken into consideration will have:\n",
    "- M/M/1\n",
    "    - $\\lambda$ = 0.95 $s^{-1}$\n",
    "    - $D$ = 0.9 $s$\n",
    "- M/M/2\n",
    "    - $\\lambda$ = 0.95 $s^{-1}$\n",
    "    - $D$ = 1.8 $s$\n",
    "- M/M/3\n",
    "    - $\\lambda$ = 0.95 $s^{-1}$\n",
    "    - $D$ = 2.7 $s$"
   ]
  },
  {
   "cell_type": "code",
   "execution_count": 20,
   "id": "ce072eaf",
   "metadata": {
    "scrolled": true
   },
   "outputs": [
    {
     "name": "stdout",
     "output_type": "stream",
     "text": [
      "Performance index     M/M/inf    M/M/3      M/M/2      M/M/1   \n",
      "\n",
      "P(N = 4)              0.1387     0.0916     0.0835     0.0775\n",
      "avg Number of Jobs    2.5650     6.9219     6.3575     5.8966\n",
      "Response time         2.7000     7.2862     6.6921     6.2069\n",
      "avg Queue Lenght      0.0000     4.5862     4.8921     5.3069\n"
     ]
    }
   ],
   "source": [
    "elements = [[\"P(N = 4)\", prob_mminf(4), prob_mm3(4), prob_mm2(4), prob_4_mm1],\n",
    "            [\"avg Number of Jobs\", N_mminf, N_mm3, N_mm2, N_mm1],\n",
    "            [\"Response time\", R_mminf, R_mm3, R_mm2, R_mm1],\n",
    "            [\"avg Queue Lenght\", theta_mminf, theta_mm3, theta_mm2, theta_mm1]]\n",
    "print(\"{:<19}   {:<8}   {:<8}   {:<8}   {:<8}\\n\".format('Performance index', 'M/M/inf', 'M/M/3', 'M/M/2', 'M/M/1'))\n",
    "\n",
    "for row in elements:\n",
    "    name, mminf, mm3, mm2, mm1 = row\n",
    "    print(\"{:<19}   {:1.4f}     {:1.4f}     {:1.4f}     {:1.4f}\".format(name, mminf, mm3, mm2, mm1))"
   ]
  }
 ],
 "metadata": {
  "kernelspec": {
   "display_name": "Python 3 (ipykernel)",
   "language": "python",
   "name": "python3"
  },
  "language_info": {
   "codemirror_mode": {
    "name": "ipython",
    "version": 3
   },
   "file_extension": ".py",
   "mimetype": "text/x-python",
   "name": "python",
   "nbconvert_exporter": "python",
   "pygments_lexer": "ipython3",
   "version": "3.9.7"
  }
 },
 "nbformat": 4,
 "nbformat_minor": 5
}
