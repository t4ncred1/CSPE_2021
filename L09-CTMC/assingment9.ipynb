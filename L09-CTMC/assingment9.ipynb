{
 "cells": [
  {
   "cell_type": "markdown",
   "id": "ecfaec74",
   "metadata": {},
   "source": [
    "# Assignment 9\n",
    "\n",
    "A RAID 1 in a very critical environment is composed by two disks that mirror the same data.\n",
    "On average, every **MTTF = 100** days one of the disks fails.\n",
    "\n",
    "In this case, recovery consist in replacing the broken disk, reconstruct the data, and return to normal operation.\n",
    "This requires an average of **MTTR = 5** days.\n",
    "\n",
    "Should also the second disk fail during the recovery stage, the system will go in a fault state, where to be restored, it will require a total reconstruction of the system from the backup.\n",
    "This will take an average of **15** days."
   ]
  },
  {
   "cell_type": "markdown",
   "id": "17b59919",
   "metadata": {},
   "source": [
    "## Requests\n",
    "Considering a starting state where both disks are working:\n",
    "- Draw the Markov Chain of the model\n",
    "- Compute the infinitesimal generator and solve the corresponding differential equations\n",
    "- Show the probability of the various states for the time T = [0, 10000] days"
   ]
  },
  {
   "attachments": {
    "assignment9-states.png": {
     "image/png": "[encoded data removed]"
    }
   },
   "cell_type": "markdown",
   "id": "b24ef40a",
   "metadata": {},
   "source": [
    "## Drawing of the Markov Chain of the model\n",
    "In the drawing, the blue ellipses are the states of the chain and the edges are used to identify the rates of each exponential distribution.\n",
    "\n",
    "![assignment9-states.png](attachment:assignment9-states.png)\n",
    "\n",
    "The distributions' rates associated with each edge are:\n",
    "\n",
    "- *MTTF* :  $100$\n",
    "- *MTTR* :  $5$\n",
    "- *Complete Repair* :  $15$"
   ]
  },
  {
   "cell_type": "markdown",
   "id": "086c12e7",
   "metadata": {},
   "source": [
    "## Computation of the infinitesimal generator\n",
    "\n",
    "The infinitesimal generator for the system is \n",
    "\n",
    "$$Q = \\begin{bmatrix}\n",
    "-\\frac{1}{MTTF} & \\frac{1}{MTTF} & 0 \\\\\n",
    "\\frac{1}{MTTR} & -\\frac{1}{MTTR}-\\frac{1}{MTTF} & \\frac{1}{MTTF} \\\\\n",
    "\\frac{1}{complete\\_repair} & 0 & -\\frac{1}{complete\\_repair}\n",
    "\\end{bmatrix}$$"
   ]
  },
  {
   "cell_type": "code",
   "execution_count": 2,
   "id": "97b0ddaa",
   "metadata": {},
   "outputs": [],
   "source": [
    "import numpy as np\n",
    "\n",
    "MTTF = 100\n",
    "MTTR = 5\n",
    "comp_rep = 15\n",
    "\n",
    "Q = np.array([\n",
    "    [   -1/MTTF,              1/MTTF,            0],\n",
    "    [    1/MTTR,  -(1/MTTR)-(1/MTTF),       1/MTTF],\n",
    "    [1/comp_rep,                   0,  -1/comp_rep]\n",
    "])"
   ]
  },
  {
   "cell_type": "markdown",
   "id": "0ab12cf4",
   "metadata": {},
   "source": [
    "## Computation of the probabilities"
   ]
  },
  {
   "cell_type": "markdown",
   "id": "c3368a90",
   "metadata": {},
   "source": [
    "We can compute the probabilities in the interval requested by using a differential equation solver.\n",
    "\n",
    "Since the starting state is considered to be both disk working, the initial probability of the chain will be:\n",
    "$$\\pi(0) =  \\begin{bmatrix}\n",
    "1 & 0 & 0\n",
    "\\end{bmatrix}$$"
   ]
  },
  {
   "cell_type": "code",
   "execution_count": 3,
   "id": "7b378849",
   "metadata": {},
   "outputs": [],
   "source": [
    "import scipy.integrate as spi\n",
    "\n",
    "def diff_function(t, pi):\n",
    "    return np.matmul(pi, Q)\n",
    "\n",
    "p0 = [1,0,0]\n",
    "\n",
    "Tmax = 10000\n",
    "\n",
    "#The Radau method choice is empirical: the values I obtain with it are monotonically crescent.\n",
    "sol = spi.solve_ivp(diff_function, (0, Tmax), p0, method='Radau')\n",
    "\n",
    "#sol2 = spi.odeint(diff_function, p0, np.linspace(0,Tmax,100), tfirst=True)\n",
    "# If I use the odeint function (similar to ode45 in matlab) I obtain a sudden ange in the curve"
   ]
  },
  {
   "cell_type": "code",
   "execution_count": 4,
   "id": "93026a14",
   "metadata": {
    "scrolled": false
   },
   "outputs": [
    {
     "name": "stdout",
     "output_type": "stream",
     "text": [
      "1.0\t0.0\t0.0\n",
      "0.9996386009705148\t0.00036133345342618443\t6.557605892452625e-08\n",
      "0.9961719479647265\t0.0038203864077557656\t7.665627517650756e-06\n",
      "0.9829061701648484\t0.016910244113208024\t0.0001835857219443033\n",
      "0.9706611446837986\t0.028659637028628334\t0.0006792182875833818\n",
      "0.9616843849796423\t0.03684145086452449\t0.0014741641558693225\n",
      "0.9557629812740184\t0.04173838317237531\t0.0024986355536985323\n",
      "0.952227806573207\t0.04413400809799051\t0.0036381853290077012\n",
      "0.9502349543357104\t0.045005429733262756\t0.004759615931449296\n",
      "0.94908455042626\t0.04518337432681515\t0.005732075247768321\n",
      "0.9484350858890176\t0.045170086184732235\t0.0063948279276812795\n",
      "0.948174681590339\t0.045153236197836503\t0.006672082213402789\n",
      "0.9480965631735715\t0.04514779803809577\t0.006755638789859968\n",
      "0.9480822907794615\t0.045146798767391236\t0.006770910454520377\n",
      "0.9480812902496054\t0.04514672869103053\t0.006771981060331734\n",
      "0.948081265688604\t0.045146726972630113\t0.006772007338239042\n",
      "0.9480812641533577\t0.045146726865130826\t0.006772008969044275\n",
      "0.9480812637666175\t0.04514672684381966\t0.0067720090262670014\n",
      "0.9480812637639872\t0.04514672684586402\t0.006772009026853014\n"
     ]
    }
   ],
   "source": [
    "for i in range(0,len(sol.y[0])):\n",
    "    print(\"{}\\t{}\\t{}\".format(sol.y[0][i], sol.y[1][i], sol.y[2][i]))"
   ]
  },
  {
   "cell_type": "code",
   "execution_count": 5,
   "id": "4310cabb",
   "metadata": {
    "scrolled": true
   },
   "outputs": [
    {
     "name": "stdout",
     "output_type": "stream",
     "text": [
      "At time 10000, the probabilities are:\n",
      "Both working:\t94.808126%\n",
      "One disk broke:\t4.514673%\n",
      "Fault:\t0.677201%\n"
     ]
    }
   ],
   "source": [
    "print(\"At time {}, the probabilities are:\\n\"\n",
    "      \"Both working:\\t{:%}\\n\"\n",
    "      \"One disk broke:\\t{:%}\\n\"\n",
    "      \"Fault:\\t{:%}\".format(Tmax, sol.y[0][-1], sol.y[1][-1], sol.y[2][-1]))"
   ]
  },
  {
   "cell_type": "markdown",
   "id": "be671dd3",
   "metadata": {},
   "source": [
    "The following is a time plot of the three probabilities"
   ]
  },
  {
   "cell_type": "code",
   "execution_count": 6,
   "id": "76f180fd",
   "metadata": {},
   "outputs": [
    {
     "data": {
      "text/plain": [
       "<matplotlib.legend.Legend at 0x7fb13f266dc0>"
      ]
     },
     "execution_count": 6,
     "metadata": {},
     "output_type": "execute_result"
    }
   ],
   "source": [
    "from matplotlib import pyplot as plt\n",
    "%matplotlib tk\n",
    "plt.plot(sol.t, sol.y[0], label=\"Both working\")\n",
    "plt.plot(sol.t, sol.y[1], label=\"One disk broke\")\n",
    "plt.plot(sol.t, sol.y[2], label=\"Fault\")\n",
    "plt.legend()"
   ]
  },
  {
   "cell_type": "markdown",
   "id": "1b075943",
   "metadata": {},
   "source": [
    "### Steady state probabilities\n",
    "We can also compute the steady state probabilities of the chain"
   ]
  },
  {
   "cell_type": "code",
   "execution_count": 7,
   "id": "cd8819b4",
   "metadata": {
    "scrolled": true
   },
   "outputs": [
    {
     "name": "stdout",
     "output_type": "stream",
     "text": [
      "The probabilities for each state are:\n",
      "Both working:\t94.808126%\n",
      "One disk broke:\t4.514673%\n",
      "Fault:\t0.677201%\n"
     ]
    }
   ],
   "source": [
    "Q_steady = Q.copy()\n",
    "Q_steady[:,0] = [1, 1, 1]\n",
    "\n",
    "ss_probabilities = np.matmul([1, 0, 0], np.linalg.inv(Q_steady))\n",
    "\n",
    "print(\"The probabilities for each state are:\\n\"\n",
    "        \"Both working:\\t{:%}\\n\"\n",
    "        \"One disk broke:\\t{:%}\\n\"\n",
    "        \"Fault:\\t{:%}\".format(ss_probabilities[0], ss_probabilities[1], ss_probabilities[2]))"
   ]
  }
 ],
 "metadata": {
  "kernelspec": {
   "display_name": "Python 3 (ipykernel)",
   "language": "python",
   "name": "python3"
  },
  "language_info": {
   "codemirror_mode": {
    "name": "ipython",
    "version": 3
   },
   "file_extension": ".py",
   "mimetype": "text/x-python",
   "name": "python",
   "nbconvert_exporter": "python",
   "pygments_lexer": "ipython3",
   "version": "3.9.2"
  }
 },
 "nbformat": 4,
 "nbformat_minor": 5
}
