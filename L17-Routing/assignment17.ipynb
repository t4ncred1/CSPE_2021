{
 "cells": [
  {
   "cell_type": "markdown",
   "id": "2a3c89fe",
   "metadata": {},
   "source": [
    "# Assignment 17\n",
    "We have the model of a three tier archiecture application with the following routing probabilities:\n",
    "\n",
    " probabilites| $p_{1}$ | $p_{2}$ | $p_{3}$ | out\n",
    " ------- | ------- | ------- | ------- | --- |\n",
    " $p_{1}$ | 0.7     | 0.3     | 0       | 0 |\n",
    " $p_{2}$ | 0.5     | 0       | 0.3     | 0.2 |\n",
    " $p_{3}$ | 0       | 1       | 0       | 0 |\n",
    " \n",
    " The only input of the system is at station 1, where we have an arrival rate of $\\lambda_{IN[1]} = 0.5 \\frac{j}{s}$\n",
    " \n",
    " The service times of the three stations are:\n",
    " \n",
    " | Station | Avg. service time |\n",
    " | - | - |\n",
    " | 1 | 1 s |\n",
    " | 2 | 2 s |\n",
    " | 3 | 2.5 s |"
   ]
  },
  {
   "cell_type": "code",
   "execution_count": 3,
   "id": "5a95535d",
   "metadata": {},
   "outputs": [],
   "source": [
    "import numpy as np\n",
    "\n",
    "P = [[ 0.7, 0.3, 0.0],\n",
    "     [ 0.5, 0.0, 0.3],\n",
    "     [ 0.0, 1.0, 0.0]]\n",
    "# We do not include the probability of going out.\n",
    "\n",
    "l = [ 1, 0, 0] \n",
    "# since only station 1 has an incoming arrival rate from the outside\n",
    "\n",
    "arrival = 0.5\n",
    "\n",
    "S = [1, 2, 2.5]"
   ]
  },
  {
   "cell_type": "markdown",
   "id": "45fbea8f",
   "metadata": {},
   "source": [
    "## Requests\n",
    "- Compute the visits to each station\n",
    "- Compute the demand of the three stations\n",
    "- Check wether the system is stable"
   ]
  },
  {
   "cell_type": "markdown",
   "id": "25758076",
   "metadata": {},
   "source": [
    "## Visits\n",
    "The visits to the stations can be computed through the formula $$v = l \\cdot (I - P)^{-1}$$\n",
    "\n",
    "where: \n",
    "- $I$ is the identity matrix\n",
    "- $P$ is the probabilistic routing matrix\n",
    "- $l$ is the arrival vector $( l = [... \\frac{\\lambda_{IN[k]}}{\\lambda_{0}} ...])$"
   ]
  },
  {
   "cell_type": "code",
   "execution_count": 6,
   "id": "3409b27a",
   "metadata": {},
   "outputs": [
    {
     "name": "stdout",
     "output_type": "stream",
     "text": [
      "The visits for each station are:\n",
      "Station 1: 11.6667\n",
      "Station 2: 5.0000\n",
      "Station 3: 1.5000\n"
     ]
    }
   ],
   "source": [
    "v = np.matmul( l, np.linalg.inv(np.subtract(np.identity(3),P)) )\n",
    "print(\"The visits for each station are:\")\n",
    "for i,e in enumerate(v):\n",
    "    print(\"Station {}: {:.4f}\".format(i+1,e))"
   ]
  },
  {
   "cell_type": "markdown",
   "id": "1b320084",
   "metadata": {},
   "source": [
    "## Demands\n",
    "The demands of the system can be computed easily once we have the visits and the service times $$D_{k} = v_{k} \\cdot S_{k}$$"
   ]
  },
  {
   "cell_type": "code",
   "execution_count": 4,
   "id": "b9c70956",
   "metadata": {},
   "outputs": [
    {
     "name": "stdout",
     "output_type": "stream",
     "text": [
      "The demands of each station are:\n",
      "Station 1: 11.6667\n",
      "Station 2: 10.0000\n",
      "Station 3: 3.7500\n"
     ]
    }
   ],
   "source": [
    "D = v*S\n",
    "print(\"The demands of each station are:\")\n",
    "for i,e in enumerate(D):\n",
    "    print(\"Station {}: {:.4f}\".format(i+1,e))"
   ]
  },
  {
   "cell_type": "markdown",
   "id": "ba3e26ba",
   "metadata": {},
   "source": [
    "## Stability\n",
    "In an open model, the stability is deemed by the utilization of each of the stations in the model.\n",
    "To check wether the system is stable, we must ensure that $$\\lambda < \\frac{1}{\\max\\limits_{k} D_{k}}$$\n",
    "\n",
    "where $\\lambda$ is the total arrival rate of the system."
   ]
  },
  {
   "cell_type": "code",
   "execution_count": 7,
   "id": "82561101",
   "metadata": {},
   "outputs": [
    {
     "name": "stdout",
     "output_type": "stream",
     "text": [
      "The system is unstable\n"
     ]
    }
   ],
   "source": [
    "stable = arrival < 1/max(D)\n",
    "\n",
    "print(\"The system is \"+ (\"stable\" if stable else \"unstable\"))"
   ]
  }
 ],
 "metadata": {
  "kernelspec": {
   "display_name": "Python 3 (ipykernel)",
   "language": "python",
   "name": "python3"
  },
  "language_info": {
   "codemirror_mode": {
    "name": "ipython",
    "version": 3
   },
   "file_extension": ".py",
   "mimetype": "text/x-python",
   "name": "python",
   "nbconvert_exporter": "python",
   "pygments_lexer": "ipython3",
   "version": "3.9.7"
  }
 },
 "nbformat": 4,
 "nbformat_minor": 5
}
