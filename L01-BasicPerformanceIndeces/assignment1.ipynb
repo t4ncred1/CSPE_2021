{
 "cells": [
  {
   "cell_type": "markdown",
   "id": "ad3b94f5",
   "metadata": {},
   "source": [
    "# Assignment 1\n",
    "In the enclosed files `DataSet1.csv` and `DataSet2.csv` are reported in the i-th row the times of the i-th arrival (first column), and of the i-th departure (second column)."
   ]
  },
  {
   "cell_type": "markdown",
   "id": "7373f007",
   "metadata": {},
   "source": [
    "## Requests\n",
    "From the data sets, compute:\n",
    "- Arrival rate and throughput\n",
    "- Busy time\n",
    "- Utilization\n",
    "- W\n",
    "- Average service time\n",
    "- Average number of jobs\n",
    "- Average response time\n",
    "- The probability of having *m* jobs in the station (with *m* = 0,1,2,3)\n",
    "\n",
    "Assuming that the jobs are served in order of arrival and without interruption, also compute:\n",
    "- The probability of having a response time less than $\\tau$ (with $\\tau$ = 1, 10, 50)"
   ]
  },
  {
   "cell_type": "code",
   "execution_count": 1,
   "id": "3b376fe9",
   "metadata": {
    "scrolled": true
   },
   "outputs": [],
   "source": [
    "import csv\n",
    "import numpy as np\n",
    "\n",
    "debug = False\n",
    "\n",
    "csvfile1 = open(\"DataSet1.csv\")\n",
    "csvfile1.seek(3,0) ## needed because of a malformed bit at the beginning of the files\n",
    "csvfile2 = open(\"DataSet2.csv\")\n",
    "csvfile2.seek(3,0)\n",
    "\n",
    "DataSet1 = csv.reader(csvfile1, delimiter=';')\n",
    "DataSet1 = [[float(x) for x in row] for row in DataSet1]\n",
    "DataSet1 = np.transpose(DataSet1)\n",
    "\n",
    "DataSet2 = csv.reader(csvfile2, delimiter=';')\n",
    "DataSet2 = [[float(x) for x in row] for row in DataSet2]\n",
    "DataSet2 = np.transpose(DataSet2)\n",
    "#DataSet2 = np.delete(DataSet2, 0, axis=1) ## the second dataset started with a job that completed in 0 seconds.\n",
    "\n",
    "if debug: print(DataSet1);print(DataSet2)"
   ]
  },
  {
   "cell_type": "markdown",
   "id": "0278ea5f",
   "metadata": {},
   "source": [
    "## Arrival rate and throughput\n",
    "To compute the arrival rate we can use the formula $$\\lambda = \\lim_{T\\to\\infty} \\frac{A(T)}{T}$$\n",
    "\n",
    "To compute the throughput we can use the formula $$X = \\lim_{T\\to\\infty} \\frac{C(T)}{T}$$"
   ]
  },
  {
   "cell_type": "code",
   "execution_count": 2,
   "id": "e6d8fbee",
   "metadata": {},
   "outputs": [
    {
     "name": "stdout",
     "output_type": "stream",
     "text": [
      "Dataset 1\n",
      "\n",
      "The arrival rate is 0.0970\n",
      "The throughput is 0.0970\n",
      "\n",
      "Dataset 2\n",
      "\n",
      "The arrival rate is 0.0959\n",
      "The throughput is 0.0959\n"
     ]
    }
   ],
   "source": [
    "print(\"Dataset 1\\n\")\n",
    "\n",
    "total_time_d1 = DataSet1[1][-1]\n",
    "if debug: print(\"The total time of the simulation is {}\".format(total_time_d1))\n",
    "\n",
    "arrival_rate_d1 = len(DataSet1[0])/total_time_d1\n",
    "print(\"The arrival rate is {:.4f}\".format(arrival_rate_d1))\n",
    "\n",
    "throughput_d1 = len(DataSet1[1])/total_time_d1\n",
    "print(\"The throughput is {:.4f}\".format(throughput_d1))\n",
    "\n",
    "print(\"\\nDataset 2\\n\")\n",
    "\n",
    "total_time_d2 = DataSet2[1][-1]\n",
    "if debug: print(\"The total time of the simulation is {}\".format(total_time_d2))\n",
    "\n",
    "arrival_rate_d2 = len(DataSet2[0])/total_time_d2\n",
    "print(\"The arrival rate is {:.4f}\".format(arrival_rate_d2))\n",
    "\n",
    "throughput_d2 = len(DataSet2[1])/total_time_d2\n",
    "print(\"The throughput is {:.4f}\".format(throughput_d2))"
   ]
  },
  {
   "cell_type": "markdown",
   "id": "4446f1b1",
   "metadata": {},
   "source": [
    "## Busy time\n",
    "The busy time represents the time the system has been in use.\n",
    "There's no specific formula to compute it."
   ]
  },
  {
   "cell_type": "code",
   "execution_count": 3,
   "id": "e8ee75fa",
   "metadata": {},
   "outputs": [
    {
     "name": "stdout",
     "output_type": "stream",
     "text": [
      "Dataset 1\n",
      "\n",
      "The busy time of the system is 688.0\n",
      "\n",
      "Dataset 2\n",
      "\n",
      "The busy time of the system is 826.0\n"
     ]
    }
   ],
   "source": [
    "print(\"Dataset 1\\n\")\n",
    "busy_time_d1 = DataSet1[1][0] - DataSet1[0][0]\n",
    "for i in range(1,len(DataSet1[0])):\n",
    "    if DataSet1[0][i] > DataSet1[1][i-1]:\n",
    "        busy_time_d1 = busy_time_d1 + ( DataSet1[1][i] - DataSet1[0][i])\n",
    "    else:\n",
    "        busy_time_d1 = busy_time_d1 + ( DataSet1[1][i] - DataSet1[1][i-1])\n",
    "        \n",
    "print(\"The busy time of the system is {}\".format(busy_time_d1))\n",
    "\n",
    "print(\"\\nDataset 2\\n\")\n",
    "busy_time_d2 = DataSet2[1][0] - DataSet2[0][0]\n",
    "for i in range(1,len(DataSet2[0])):\n",
    "    if DataSet2[0][i] > DataSet2[1][i-1]:\n",
    "        busy_time_d2 = busy_time_d2 + ( DataSet2[1][i] - DataSet2[0][i])\n",
    "    else:\n",
    "        busy_time_d2 = busy_time_d2 + ( DataSet2[1][i] - DataSet2[1][i-1])\n",
    "        \n",
    "print(\"The busy time of the system is {}\".format(busy_time_d2))\n"
   ]
  },
  {
   "cell_type": "markdown",
   "id": "f1056e2e",
   "metadata": {},
   "source": [
    "## Utilization\n",
    "To compute the utilization we can use the formula $$U = \\lim_{T\\to\\infty}\\frac{B(T)}{T}$$"
   ]
  },
  {
   "cell_type": "code",
   "execution_count": 4,
   "id": "1fd27125",
   "metadata": {},
   "outputs": [
    {
     "name": "stdout",
     "output_type": "stream",
     "text": [
      "Dataset 1\n",
      "The utilization of the system is 0.6673\n",
      "\n",
      "Dataset 2\n",
      "The utilization of the system is 0.8004\n"
     ]
    }
   ],
   "source": [
    "print(\"Dataset 1\")\n",
    "U_d1 = busy_time_d1/total_time_d1\n",
    "print(\"The utilization of the system is {:.4f}\".format(U_d1))\n",
    "\n",
    "print(\"\\nDataset 2\")\n",
    "U_d2 = busy_time_d2/total_time_d2\n",
    "print(\"The utilization of the system is {:.4f}\".format(U_d2))"
   ]
  },
  {
   "cell_type": "markdown",
   "id": "7c799fa9",
   "metadata": {},
   "source": [
    "## Response time\n",
    "The response times can be computed starting from the arrivals and the completion $$r(i) = C^{-1}(i) - A^{-1}(i)$$"
   ]
  },
  {
   "cell_type": "code",
   "execution_count": 5,
   "id": "f7f6417a",
   "metadata": {},
   "outputs": [
    {
     "name": "stdout",
     "output_type": "stream",
     "text": [
      "Dataset 1\n",
      "The average response time is 8.4900\n",
      "\n",
      "Dataset 2\n",
      "The average response time is 87.6667\n"
     ]
    }
   ],
   "source": [
    "print(\"Dataset 1\")\n",
    "response_times_d1 = np.subtract(DataSet1[1], DataSet1[0])\n",
    "if debug: print(response_times_d1)\n",
    "avg_resptime_d1 = np.mean(response_times_d1)\n",
    "print(\"The average response time is {:.4f}\\n\".format(avg_resptime_d1))\n",
    "\n",
    "print(\"Dataset 2\")\n",
    "response_times_d2 = np.subtract(DataSet2[1], DataSet2[0])\n",
    "if debug: print(response_times_d2)\n",
    "avg_resptime_d2 = np.mean(response_times_d2)\n",
    "print(\"The average response time is {:.4f}\".format(avg_resptime_d2))"
   ]
  },
  {
   "cell_type": "markdown",
   "id": "e81d9ce1",
   "metadata": {},
   "source": [
    "## W\n",
    "W is an index used to compute the number of jobs in the system\n",
    "\n",
    "$$W = \\sum_{i=1}^{C} r_{i}$$"
   ]
  },
  {
   "cell_type": "code",
   "execution_count": 6,
   "id": "bac9ec7b",
   "metadata": {},
   "outputs": [
    {
     "name": "stdout",
     "output_type": "stream",
     "text": [
      "Dataset 1\n",
      "\n",
      "W is 849.0\n",
      "\n",
      "Dataset 2\n",
      "\n",
      "W is 8679.0\n"
     ]
    }
   ],
   "source": [
    "print(\"Dataset 1\\n\")\n",
    "W_d1 = np.sum(response_times_d1)\n",
    "print(\"W is {}\".format(W_d1))\n",
    "\n",
    "print(\"\\nDataset 2\\n\")\n",
    "W_d2 = np.sum(response_times_d2)\n",
    "print(\"W is {}\".format(W_d2))"
   ]
  },
  {
   "cell_type": "markdown",
   "id": "1636d974",
   "metadata": {},
   "source": [
    "## Average service time\n",
    "The average service time of the system can be computed through the formula $$S = \\lim_{T\\to\\infty}\\frac{B(T)}{C(T)}$$"
   ]
  },
  {
   "cell_type": "code",
   "execution_count": 7,
   "id": "395af1b2",
   "metadata": {},
   "outputs": [
    {
     "name": "stdout",
     "output_type": "stream",
     "text": [
      "Dataset 1\n",
      "\n",
      "The service time is 6.88\n",
      "\n",
      "Dataset 2\n",
      "\n",
      "The service time is 8.343\n"
     ]
    }
   ],
   "source": [
    "print(\"Dataset 1\\n\")\n",
    "avg_service_d1 = busy_time_d1/len(DataSet1[1])\n",
    "print(\"The service time is {}\".format(avg_service_d1))\n",
    "\n",
    "print(\"\\nDataset 2\\n\")\n",
    "avg_service_d2 = busy_time_d2/len(DataSet2[1])\n",
    "print(\"The service time is {:.3f}\".format(avg_service_d2))"
   ]
  },
  {
   "cell_type": "markdown",
   "id": "02d9e3b3",
   "metadata": {},
   "source": [
    "## Average number of jobs\n",
    "\n",
    "The average number of jobs can be computed either through the standard formulation $$N = \\lim_{T\\to\\infty}\\frac{W(T)}{T}$$\n",
    "\n",
    "or through Little's law $$N = X \\cdot R$$"
   ]
  },
  {
   "cell_type": "code",
   "execution_count": 8,
   "id": "7f9493b9",
   "metadata": {},
   "outputs": [
    {
     "name": "stdout",
     "output_type": "stream",
     "text": [
      "Dataset 1\n",
      "\n",
      "The average number of jobs in the system is 0.8235\n",
      "\n",
      "Dataset 2\n",
      "\n",
      "The average number of jobs in the system is 8.4099\n"
     ]
    }
   ],
   "source": [
    "print(\"Dataset 1\\n\")\n",
    "N_d1 = W_d1/total_time_d1\n",
    "print(\"The average number of jobs in the system is {:.4f}\".format(N_d1))\n",
    "\n",
    "print(\"\\nDataset 2\\n\")\n",
    "N_d2 = W_d2/total_time_d2\n",
    "print(\"The average number of jobs in the system is {:.4f}\".format(N_d2))"
   ]
  },
  {
   "cell_type": "markdown",
   "id": "d025b49e",
   "metadata": {},
   "source": [
    "## Probability of having *N* jobs in the system\n",
    "The probability of having a certain number of jobs in the system can be computed by:\n",
    "- assigning to each arrival a +1 and to each departure a -1\n",
    "- ordering the union of the arrivals and the departures\n",
    "- cumulatively sum all the assigned values, obtaining the number of jobs at each time\n",
    "- consider, given a number, the fraction of times that have that number of jobs in the system "
   ]
  },
  {
   "cell_type": "code",
   "execution_count": 9,
   "id": "5a512f11",
   "metadata": {},
   "outputs": [
    {
     "name": "stdout",
     "output_type": "stream",
     "text": [
      "DataSet 1\n",
      "\n",
      "The probability of having 0 elements in the system is 0.3249\n",
      "The probability of having 1 element in the system is 0.5209\n",
      "The probability of having 2 elements in the system is 0.1368\n",
      "The probability of having 3 elements in the system is 0.0097\n",
      "\n",
      "DataSet 2\n",
      "\n",
      "The probability of having 0 elements in the system is 0.1996\n",
      "The probability of having 1 element in the system is 0.0417\n",
      "The probability of having 2 elements in the system is 0.0397\n",
      "The probability of having 3 elements in the system is 0.0291\n"
     ]
    }
   ],
   "source": [
    "def pn(data, n, tot_time):\n",
    "    assigned_arrivals = np.column_stack((data[0], [1 for _ in data[0]]))\n",
    "    assigned_departures = np.column_stack((data[1], [-1 for _ in data[1]]))\n",
    "    tot_assigned = np.concatenate((assigned_arrivals,assigned_departures), axis=0)\n",
    "    sorted_assigned = tot_assigned[tot_assigned[:,0].argsort()]\n",
    "    sorted_assigned[:,1] = np.cumsum(sorted_assigned[:,1])\n",
    "    summed=sorted_assigned[:-1, :].copy()\n",
    "    for i in range(0,len(sorted_assigned)-1):\n",
    "        summed[i,0] = sorted_assigned[i+1,0]-sorted_assigned[i,0]\n",
    "   \n",
    "    if debug: print(summed)\n",
    "    \n",
    "    filtered = summed[summed[:,1] == n, 0]\n",
    "    return sum(filtered)/tot_time\n",
    "\n",
    "print( \"DataSet 1\\n\")\n",
    "print( \"The probability of having 0 elements in the system is {:.4f}\".format(pn(DataSet1, 0, total_time_d1)) )\n",
    "print( \"The probability of having 1 element in the system is {:.4f}\".format(pn(DataSet1, 1, total_time_d1)) )\n",
    "print( \"The probability of having 2 elements in the system is {:.4f}\".format(pn(DataSet1, 2, total_time_d1)) )\n",
    "print( \"The probability of having 3 elements in the system is {:.4f}\".format(pn(DataSet1, 3, total_time_d1)) )\n",
    "\n",
    "print( \"\\nDataSet 2\\n\")\n",
    "print( \"The probability of having 0 elements in the system is {:.4f}\".format(pn(DataSet2, 0, total_time_d2)) )\n",
    "print( \"The probability of having 1 element in the system is {:.4f}\".format(pn(DataSet2, 1, total_time_d2)) )\n",
    "print( \"The probability of having 2 elements in the system is {:.4f}\".format(pn(DataSet2, 2, total_time_d2)) )\n",
    "print( \"The probability of having 3 elements in the system is {:.4f}\".format(pn(DataSet2, 3, total_time_d2)) )"
   ]
  },
  {
   "cell_type": "markdown",
   "id": "4fec1b0d",
   "metadata": {},
   "source": [
    "## Probability of having a response time less than *$\\tau$*\n",
    "To compute the probability of having a response time less than a value $\\tau$, we can simply apply the definition of probability \n",
    "\n",
    "$$p(R < \\tau) = \\frac{\\sum^{C}_{i=1}I(r_{i} < \\tau)}{C}$$"
   ]
  },
  {
   "cell_type": "code",
   "execution_count": 10,
   "id": "dae025b2",
   "metadata": {
    "scrolled": false
   },
   "outputs": [
    {
     "name": "stdout",
     "output_type": "stream",
     "text": [
      "Dataset 1\n",
      "\n",
      "The probability of having a response time less than 1 is 0.0000\n",
      "The probability of having a response time less than 10 is 0.6200\n",
      "The probability of having a response time less than 50 is 1.0000\n",
      "\n",
      "Dataset 2\n",
      "\n",
      "The probability of having a response time less than 1 is 0.0101\n",
      "The probability of having a response time less than 10 is 0.0606\n",
      "The probability of having a response time less than 50 is 0.2323\n"
     ]
    }
   ],
   "source": [
    "print(\"Dataset 1\\n\")\n",
    "\n",
    "less_1 = 0\n",
    "less_10 = 0\n",
    "less_50 = 0\n",
    "\n",
    "for r in response_times_d1:\n",
    "    if r<1: less_1+=1\n",
    "    if r<10: less_10+=1\n",
    "    if r<50: less_50+=1\n",
    "\n",
    "print(\"The probability of having a response time less than 1 is {:.4f}\".format(less_1/len(DataSet1[1])))\n",
    "print(\"The probability of having a response time less than 10 is {:.4f}\".format(less_10/len(DataSet1[1])))\n",
    "print(\"The probability of having a response time less than 50 is {:.4f}\".format(less_50/len(DataSet1[1])))\n",
    "\n",
    "print(\"\\nDataset 2\\n\")\n",
    "\n",
    "less_1 = 0\n",
    "less_10 = 0\n",
    "less_50 = 0\n",
    "\n",
    "for r in response_times_d2:\n",
    "    if r<1: less_1+=1\n",
    "    if r<10: less_10+=1\n",
    "    if r<50: less_50+=1\n",
    "\n",
    "print(\"The probability of having a response time less than 1 is {:.4f}\".format(less_1/len(DataSet2[1])))\n",
    "print(\"The probability of having a response time less than 10 is {:.4f}\".format(less_10/len(DataSet2[1])))\n",
    "print(\"The probability of having a response time less than 50 is {:.4f}\".format(less_50/len(DataSet2[1])))"
   ]
  }
 ],
 "metadata": {
  "kernelspec": {
   "display_name": "Python 3 (ipykernel)",
   "language": "python",
   "name": "python3"
  },
  "language_info": {
   "codemirror_mode": {
    "name": "ipython",
    "version": 3
   },
   "file_extension": ".py",
   "mimetype": "text/x-python",
   "name": "python",
   "nbconvert_exporter": "python",
   "pygments_lexer": "ipython3",
   "version": "3.9.2"
  }
 },
 "nbformat": 4,
 "nbformat_minor": 5
}
