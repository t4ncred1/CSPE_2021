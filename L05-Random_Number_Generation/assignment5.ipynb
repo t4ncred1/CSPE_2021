{
 "cells": [
  {
   "cell_type": "markdown",
   "id": "0a1b1c3a",
   "metadata": {},
   "source": [
    "# **Assignment 5**\n",
    "\n",
    "The objective of the assignment is to generate a set of 500 samples for different distributions and compare them on a plot.\n"
   ]
  },
  {
   "cell_type": "markdown",
   "id": "8d891687",
   "metadata": {},
   "source": [
    "## Initialization\n",
    "First of all, we need to import the necessary libraries and tell ipython how to treat the generated plots"
   ]
  },
  {
   "cell_type": "code",
   "execution_count": 16,
   "id": "a22e1fd0",
   "metadata": {},
   "outputs": [],
   "source": [
    "%matplotlib tk\n",
    "import numpy as np\n",
    "from matplotlib import pyplot as plt"
   ]
  },
  {
   "cell_type": "markdown",
   "id": "5abc2850",
   "metadata": {},
   "source": [
    "## Random number generation\n",
    "\n",
    "We then need to set up the generator to be used for the creation of random numbers between 0 and 1.\n",
    "In this version, I went with the standard numpy generator, although a linear congruential generator could be used.\n",
    "\n",
    "At this same time, we define the number of samples to generate for each distribution (required by the assignment to be 500)."
   ]
  },
  {
   "cell_type": "code",
   "execution_count": 17,
   "id": "a046a5b4",
   "metadata": {},
   "outputs": [],
   "source": [
    "rng = np.random.default_rng(seed = 0xdeadbeef)\n",
    "samples = 500"
   ]
  },
  {
   "cell_type": "markdown",
   "id": "bff9825f",
   "metadata": {},
   "source": [
    "## Distributions\n",
    "\n",
    "For each distribution considered, I generated a new set of random data to avoid any sort of correlation."
   ]
  },
  {
   "cell_type": "markdown",
   "id": "da2fb8c6",
   "metadata": {},
   "source": [
    "### Uniform\n",
    "\n",
    "Generate the samples of a continuous uniform distribution *between 10 and 20*."
   ]
  },
  {
   "cell_type": "code",
   "execution_count": 18,
   "id": "9152e41c",
   "metadata": {},
   "outputs": [],
   "source": [
    "data = rng.random(size=samples)\n",
    "unif = 10 + (20-10)*data;"
   ]
  },
  {
   "cell_type": "markdown",
   "id": "27398dd4",
   "metadata": {},
   "source": [
    "The values obtained with the generation give the following *mean* and *coefficient of variation*"
   ]
  },
  {
   "cell_type": "code",
   "execution_count": 19,
   "id": "8189bbbc",
   "metadata": {
    "scrolled": true
   },
   "outputs": [
    {
     "name": "stdout",
     "output_type": "stream",
     "text": [
      "cv = 0.18236\n",
      "mean = 15.41\n"
     ]
    }
   ],
   "source": [
    "mean = np.mean(unif)\n",
    "cv = np.sqrt(np.var(unif))/mean\n",
    "print(\"cv = %3.5f\\nmean = %3.2f\" % (cv, mean))"
   ]
  },
  {
   "cell_type": "markdown",
   "id": "3b62261f",
   "metadata": {},
   "source": [
    "The obtained value for the coefficient of variation is in line with what we expected:  \n",
    "The uniform distribution has, by nature, a **standard deviation smaller than its mean** (when a and b are positive). "
   ]
  },
  {
   "cell_type": "markdown",
   "id": "24870830",
   "metadata": {},
   "source": [
    "### Discrete\n",
    "\n",
    "Generate the samples of a discrete distribution that returns the following values with the given probability:\n",
    "\n",
    "| Value | Probability |\n",
    "| --- | --- |\n",
    "| 5 | 0.2 |\n",
    "| 15 | 0.6 |\n",
    "| 20 | 0.2 |"
   ]
  },
  {
   "cell_type": "code",
   "execution_count": 20,
   "id": "1b2f2b1f",
   "metadata": {},
   "outputs": [],
   "source": [
    "data = rng.random(size=samples)\n",
    "discrete = []\n",
    "for i in data:\n",
    "    if i < 0.2 :\n",
    "        discrete.append(5)\n",
    "    elif i < (0.2 + 0.6) :\n",
    "        discrete.append(15)\n",
    "    else :\n",
    "        discrete.append(20)"
   ]
  },
  {
   "cell_type": "markdown",
   "id": "4f8a5b10",
   "metadata": {},
   "source": [
    "The values obtained with the generation give the following *mean* and *coefficient of variation*"
   ]
  },
  {
   "cell_type": "code",
   "execution_count": 21,
   "id": "2e40a7a4",
   "metadata": {},
   "outputs": [
    {
     "name": "stdout",
     "output_type": "stream",
     "text": [
      "cv = 0.35679\n",
      "mean = 13.77\n"
     ]
    }
   ],
   "source": [
    "mean = np.mean(discrete)\n",
    "cv = np.sqrt(np.var(discrete))/mean\n",
    "print(\"cv = %3.5f\\nmean = %3.2f\" % (cv, mean))"
   ]
  },
  {
   "cell_type": "markdown",
   "id": "5e81d8aa",
   "metadata": {},
   "source": [
    "The obtained value for the coefficient of variation is in line with what we expected."
   ]
  },
  {
   "cell_type": "markdown",
   "id": "c0b40b8a",
   "metadata": {},
   "source": [
    "### Exponential\n",
    "\n",
    "Generate the samples of an exponential distribution with average 15."
   ]
  },
  {
   "cell_type": "code",
   "execution_count": 22,
   "id": "3613e0b9",
   "metadata": {},
   "outputs": [],
   "source": [
    "data = rng.random(size=samples)\n",
    "exp = -np.log(data)*15"
   ]
  },
  {
   "cell_type": "markdown",
   "id": "3ff9726b",
   "metadata": {},
   "source": [
    "The values obtained with the generation give the following *mean* and *coefficient of variation*"
   ]
  },
  {
   "cell_type": "code",
   "execution_count": 23,
   "id": "10131e93",
   "metadata": {},
   "outputs": [
    {
     "name": "stdout",
     "output_type": "stream",
     "text": [
      "cv = 0.95178\n",
      "mean = 16.33\n"
     ]
    }
   ],
   "source": [
    "mean = np.mean(exp)\n",
    "cv = np.sqrt(np.var(exp))/mean\n",
    "print(\"cv = %3.5f\\nmean = %3.2f\" % (cv, mean))"
   ]
  },
  {
   "cell_type": "markdown",
   "id": "9bb53f01",
   "metadata": {},
   "source": [
    "The obtained value for the coefficient of variation is in line with what we expected:  \n",
    "The exponential distribution should have a **c.v. of 1** and the value we obtained is close to it.  \n",
    "The error we see is caused by the *small number of samples*."
   ]
  },
  {
   "cell_type": "markdown",
   "id": "cd44626a",
   "metadata": {},
   "source": [
    "### Hyper-exponential\n",
    "\n",
    "Generate the samples of an hyper-exponential with two stages characterized by:\n",
    "\n",
    "| Name | Value |\n",
    "| --- | --- |\n",
    "| $\\lambda_{1}$ | 0.1 |\n",
    "| $\\lambda_{2}$ | 0.05 |\n",
    "| p | 0.5 |"
   ]
  },
  {
   "cell_type": "code",
   "execution_count": 24,
   "id": "8acf1b48",
   "metadata": {},
   "outputs": [],
   "source": [
    "data1 = rng.random(size=samples)\n",
    "data2 = rng.random(size=samples)\n",
    "probabilities = rng.random(size=samples)\n",
    "hyper = []\n",
    "for i in range(0,samples):\n",
    "    if probabilities[i] <= 0.5:\n",
    "        hyper.append(-np.log(data1[i])/0.1)\n",
    "    else:\n",
    "        hyper.append(-np.log(data2[i])/0.05)"
   ]
  },
  {
   "cell_type": "markdown",
   "id": "40faaafd",
   "metadata": {},
   "source": [
    "The values obtained with the generation give the following *mean* and *coefficient of variation*"
   ]
  },
  {
   "cell_type": "code",
   "execution_count": 25,
   "id": "79cc4a14",
   "metadata": {},
   "outputs": [
    {
     "name": "stdout",
     "output_type": "stream",
     "text": [
      "cv = 1.13836\n",
      "mean = 15.19\n"
     ]
    }
   ],
   "source": [
    "mean = np.mean(hyper)\n",
    "cv = np.sqrt(np.var(hyper))/mean\n",
    "print(\"cv = %3.5f\\nmean = %3.2f\" % (cv, mean))"
   ]
  },
  {
   "cell_type": "markdown",
   "id": "8cba3971",
   "metadata": {},
   "source": [
    "The obtained value for the coefficient of variation is in line with what we expected:  \n",
    "The hyper-exponential distribution should have a **c.v. greater than 1**."
   ]
  },
  {
   "cell_type": "markdown",
   "id": "e791b24e",
   "metadata": {},
   "source": [
    "### Hypo-exponential\n",
    "\n",
    "Generate the samples of an hypo-exponential with two stages characterized by:\n",
    "\n",
    "| Name | Value |\n",
    "| --- | --- |\n",
    "| $\\lambda_{1}$ | 0.1 |\n",
    "| $\\lambda_{2}$ | 0.2 |"
   ]
  },
  {
   "cell_type": "code",
   "execution_count": 26,
   "id": "b7869da4",
   "metadata": {},
   "outputs": [],
   "source": [
    "data1 = rng.random(size=samples)\n",
    "data2 = rng.random(size=samples)\n",
    "hypo = - np.log(data1)/0.1 - np.log(data2)/0.2"
   ]
  },
  {
   "cell_type": "markdown",
   "id": "97eb06dc",
   "metadata": {},
   "source": [
    "The values obtained with the generation give the following *mean* and *coefficient of variation*"
   ]
  },
  {
   "cell_type": "code",
   "execution_count": 27,
   "id": "b6600dce",
   "metadata": {},
   "outputs": [
    {
     "name": "stdout",
     "output_type": "stream",
     "text": [
      "cv = 0.77219\n",
      "mean = 14.74\n"
     ]
    }
   ],
   "source": [
    "mean = np.mean(hypo)\n",
    "cv = np.sqrt(np.var(hypo))/mean\n",
    "print(\"cv = %3.5f\\nmean = %3.2f\" % (cv, mean))"
   ]
  },
  {
   "cell_type": "markdown",
   "id": "024bea8c",
   "metadata": {},
   "source": [
    "The obtained value for the coefficient of variation is in line with what we expected:  \n",
    "The hypo-exponential distribution should have a **c.v smaller than 1**. "
   ]
  },
  {
   "cell_type": "markdown",
   "id": "3963b646",
   "metadata": {},
   "source": [
    "### Hyper-erlang\n",
    "\n",
    "Generate the samples of an hyper-erlang with the following branches:\n",
    "\n",
    "| Stages | Rate | Probability |\n",
    "| --- | --- | --- |\n",
    "| 1 | 0.02 | 0.1 |\n",
    "| 2 | 0.2 | 0.4 |\n",
    "| 3 | 0.25 | 0.5 |"
   ]
  },
  {
   "cell_type": "code",
   "execution_count": 28,
   "id": "f63884a8",
   "metadata": {},
   "outputs": [],
   "source": [
    "data1 = rng.random(size=samples)\n",
    "data2 = rng.random(size=samples)\n",
    "data3 = rng.random(size=samples)\n",
    "probabilities = rng.random(size=samples)\n",
    "hyper_erlang = []\n",
    "for i in range(0, samples):\n",
    "    if probabilities[i] < 0.1:\n",
    "        hyper_erlang.append(-np.log(data1[i])/0.02)\n",
    "    elif probabilities[i] < (0.4 + 0.1):\n",
    "        hyper_erlang.append(-np.log(data1[i])/0.2-np.log(data2[i])/0.2)\n",
    "    else:\n",
    "        hyper_erlang.append(-np.log(data1[i])/0.25 -np.log(data2[i])/0.25 -np.log(data3[i])/0.25)"
   ]
  },
  {
   "cell_type": "markdown",
   "id": "cf810780",
   "metadata": {},
   "source": [
    "The values obtained with the generation give the following *mean* and *coefficient of variation*"
   ]
  },
  {
   "cell_type": "code",
   "execution_count": 29,
   "id": "7b2d98d7",
   "metadata": {},
   "outputs": [
    {
     "name": "stdout",
     "output_type": "stream",
     "text": [
      "cv = 1.27984\n",
      "mean = 14.67\n"
     ]
    }
   ],
   "source": [
    "mean = np.mean(hyper_erlang)\n",
    "cv = np.sqrt(np.var(hyper_erlang))/mean\n",
    "print(\"cv = %3.5f\\nmean = %3.2f\" % (cv, mean))"
   ]
  },
  {
   "cell_type": "markdown",
   "id": "73c61adf",
   "metadata": {},
   "source": [
    "The obtained value for the coefficient of variation is in line with what we expected:  \n",
    "The hyper-erlang distribution has a **c.v. greater than one** when its stages aren't all *single stage erlangs*."
   ]
  },
  {
   "cell_type": "markdown",
   "id": "eb0cafd6",
   "metadata": {},
   "source": [
    "## Plots\n",
    "\n",
    "To compare the distributions created above, we calculated their CDF and plotted them together."
   ]
  },
  {
   "cell_type": "code",
   "execution_count": 30,
   "id": "e49d3315",
   "metadata": {
    "scrolled": true
   },
   "outputs": [
    {
     "data": {
      "text/plain": [
       "<matplotlib.legend.Legend at 0x7fc6d26cadf0>"
      ]
     },
     "execution_count": 30,
     "metadata": {},
     "output_type": "execute_result"
    }
   ],
   "source": [
    "for (data, name) in [(unif, 'uniform'),\n",
    "                     (discrete, 'discrete'),\n",
    "                     (exp, 'exponential'),\n",
    "                     (hyper, 'hyper'),\n",
    "                     (hypo, 'hypoexponential'),\n",
    "                     (hyper_erlang, 'hyper erlang')]:\n",
    "    \n",
    "    y = [*range(0,len(data))]\n",
    "    y = np.divide(y, len(data))\n",
    "    x = np.sort(data)\n",
    "\n",
    "    plt.plot(x, y, label=name)\n",
    "plt.legend()"
   ]
  }
 ],
 "metadata": {
  "kernelspec": {
   "display_name": "Python 3 (ipykernel)",
   "language": "python",
   "name": "python3"
  },
  "language_info": {
   "codemirror_mode": {
    "name": "ipython",
    "version": 3
   },
   "file_extension": ".py",
   "mimetype": "text/x-python",
   "name": "python",
   "nbconvert_exporter": "python",
   "pygments_lexer": "ipython3",
   "version": "3.9.7"
  },
  "name": "Untitled.ipynb"
 },
 "nbformat": 4,
 "nbformat_minor": 5
}
