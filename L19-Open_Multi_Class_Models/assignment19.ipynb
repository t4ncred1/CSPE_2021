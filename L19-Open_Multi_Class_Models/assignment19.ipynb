{
 "cells": [
  {
   "cell_type": "markdown",
   "id": "6f8be0bb",
   "metadata": {},
   "source": [
    "# Assignment 19\n",
    "The storage system of a small company is composed by two NAS.\n",
    "Each of them is configured to serve requests in parallel (i.e. processor sharing), and serves two type of users: employees and costumers.\n",
    "\n",
    "Requests of both type of users arrive according to Poisson processes respectively of rates:\n",
    "- $\\lambda_{e}$ = 0.1 $\\frac{req}{s}$\n",
    "- $\\lambda_{c}$ = 10 $\\frac{req}{s}$\n",
    "\n",
    "Each request accesses files from both NASes. The demand of the two NASes for the two types of users have been measured as follows:\n",
    "- $D_{1E}$ = 2 $s$\n",
    "- $D_{1C}$ = 0.06 $s$\n",
    "- $D_{2E}$ = 5 $s$\n",
    "- $D_{2C}$ = 0.04$s$\n",
    "\n",
    "## Requests\n",
    "Determine:\n",
    "1. Wether the considered system is stable\n",
    "2. The utilization of the two NAS\n",
    "3. The residence time of the two NAS\n",
    "4. The response time of the system"
   ]
  },
  {
   "cell_type": "markdown",
   "id": "0169a839",
   "metadata": {},
   "source": [
    "## Characterization\n",
    "\n",
    "The model I'm going to use takes into consideration **two job classes**: one for the requests from the employees and one for the requests from the customers.\n",
    "\n",
    "Both classes are open and they are characterized by the arrival rates and the demands of the respective jobs."
   ]
  },
  {
   "cell_type": "code",
   "execution_count": 1,
   "id": "5aa38629",
   "metadata": {},
   "outputs": [],
   "source": [
    "import numpy as np\n",
    "\n",
    "D = np.array([[2, 5],\n",
    "             [0.06, 0.04]])\n",
    "l = np.array([0.1, 10])"
   ]
  },
  {
   "cell_type": "markdown",
   "id": "d31c11c5",
   "metadata": {},
   "source": [
    "## Utilization\n",
    "The utilization of a station for a class can be computed as $$U_{kc} = X_{c} \\cdot D_{kc} = \\lambda_{c} \\cdot D_{kc}$$ \n",
    "\n",
    "The utilization of the station (independently of the class) can then be computed as $$U_{k} = \\sum_{c}U_{kc}$$"
   ]
  },
  {
   "cell_type": "code",
   "execution_count": 2,
   "id": "1ca1dcae",
   "metadata": {},
   "outputs": [
    {
     "name": "stdout",
     "output_type": "stream",
     "text": [
      "The utilization for employees on NAS 1 is 0.2\n",
      "The utilization for employees on NAS 2 is 0.5\n",
      "The utilization for costumers on NAS 1 is 0.6\n",
      "The utilization for costumers on NAS 2 is 0.4\n",
      "The utilization of NAS 1 is 0.8\n",
      "The utilization of NAS 2 is 0.9\n"
     ]
    }
   ],
   "source": [
    "U_k = np.matmul(np.transpose(l), D)\n",
    "U_kc = np.array([la * D[i] for i,la in enumerate(l)])\n",
    "\n",
    "print(\"The utilization for employees on NAS 1 is {}\".format(U_kc[0][0]))\n",
    "print(\"The utilization for employees on NAS 2 is {}\".format(U_kc[0][1]))\n",
    "print(\"The utilization for costumers on NAS 1 is {}\".format(U_kc[1][0]))\n",
    "print(\"The utilization for costumers on NAS 2 is {}\".format(U_kc[1][1]))\n",
    "\n",
    "for i, u in enumerate(U_k):\n",
    "    print(\"The utilization of NAS {} is {}\".format(i+1, u))"
   ]
  },
  {
   "cell_type": "markdown",
   "id": "b3563614",
   "metadata": {},
   "source": [
    "## Stability\n",
    "To be considered stable, every station in the network must have an utilization less than 1."
   ]
  },
  {
   "cell_type": "code",
   "execution_count": 3,
   "id": "cea588a7",
   "metadata": {},
   "outputs": [
    {
     "name": "stdout",
     "output_type": "stream",
     "text": [
      "The system is stable.\n"
     ]
    }
   ],
   "source": [
    "stability = all(U_k < 1)\n",
    "print(\"The system is {}.\".format(\"stable\" if stability else \"unstable\"))"
   ]
  },
  {
   "cell_type": "markdown",
   "id": "7542978f",
   "metadata": {},
   "source": [
    "## Residence times of each station\n",
    "\n",
    "The residence time of each station can be computed starting from the residence times of each station *for each class* $$R_{kc} = \\frac{D_{kc}}{1 - U_{k}}$$\n",
    "\n",
    "At which point, we can compute hte residence time of each station as $$R_{k} = \\sum_{c}\\frac{X_{c}}{X}\\cdot R_{kc}$$\n",
    "where $X$ can be computed as the sum of the various $X_{c}$."
   ]
  },
  {
   "cell_type": "code",
   "execution_count": 4,
   "id": "b0db9f45",
   "metadata": {},
   "outputs": [
    {
     "name": "stdout",
     "output_type": "stream",
     "text": [
      "The residence time for employees in NAS 1 is 10.000\n",
      "The residence time for customers in NAS 1 is 0.300\n",
      "The response time for NAS 1 is 0.396\n",
      "The residence time for employees in NAS 2 is 50.000\n",
      "The residence time for customers in NAS 2 is 0.400\n",
      "The response time for NAS 2 is 0.891\n"
     ]
    }
   ],
   "source": [
    "R_kc = np.array([\n",
    "    [d /(1-U_k[0]) for d in D[:,0]],\n",
    "    [d /(1-U_k[1]) for d in D[:,1]]\n",
    "])\n",
    "R_kc = np.transpose(R_kc)\n",
    "\n",
    "R_k = np.matmul(l/sum(l), R_kc)\n",
    "\n",
    "for s, st in enumerate([\"NAS 1\", \"NAS 2\"]):\n",
    "    for c, cl in enumerate([\"employees\", \"customers\"]):\n",
    "        print(\"The residence time for {} in {} is {:.3f}\".format(cl, st, R_kc[c][s]))\n",
    "    print(\"The response time for {} is {:.3f}\".format(st, R_k[s]))\n"
   ]
  },
  {
   "cell_type": "markdown",
   "id": "3a242c3b",
   "metadata": {},
   "source": [
    "## Response time of the system\n",
    "The response time of the system can be computed as $$R = \\sum_{k} R_{k}$$"
   ]
  },
  {
   "cell_type": "code",
   "execution_count": 5,
   "id": "736b6208",
   "metadata": {},
   "outputs": [
    {
     "name": "stdout",
     "output_type": "stream",
     "text": [
      "The response time of the system is 1.287129\n"
     ]
    }
   ],
   "source": [
    "R = np.sum(R_k)\n",
    "\n",
    "print(\"The response time of the system is {:3f}\".format(R))"
   ]
  }
 ],
 "metadata": {
  "kernelspec": {
   "display_name": "Python 3 (ipykernel)",
   "language": "python",
   "name": "python3"
  },
  "language_info": {
   "codemirror_mode": {
    "name": "ipython",
    "version": 3
   },
   "file_extension": ".py",
   "mimetype": "text/x-python",
   "name": "python",
   "nbconvert_exporter": "python",
   "pygments_lexer": "ipython3",
   "version": "3.9.7"
  }
 },
 "nbformat": 4,
 "nbformat_minor": 5
}
