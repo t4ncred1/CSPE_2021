{
 "cells": [
  {
   "cell_type": "markdown",
   "id": "aa6a12ae",
   "metadata": {},
   "source": [
    "# Assignment 10\n",
    "A simple single core embedded system executes continuously two tasks: task A and task B.\n",
    "Both alternates between a running and waiting state, characterized by the following average duration:\n",
    "\n",
    "| Task | A | B |\n",
    "| --- | --- | --- |\n",
    "| Waiting | 10 s. | 5 s. |\n",
    "| Execution | 8 s. | 12 s. |\n",
    "\n",
    "Note that, since the system is single core, when both tasks are in execution, they each run at *half of their speed* (the corresponding rate is halved)."
   ]
  },
  {
   "cell_type": "markdown",
   "id": "65b2f611",
   "metadata": {},
   "source": [
    "## Requests\n",
    "\n",
    "Considering all waiting and execution times **exponentially distributed** and that the system starts in a state where both tasks are running, compute:\n",
    "\n",
    "- The utilization and average number of tasks in execution\n",
    "- The system throughput\n",
    "- The average number of jobs at t = 10s, t = 20s, t = 50s and t = 100s."
   ]
  },
  {
   "attachments": {
    "assignment10-states_2-2.svg": {
     "image/svg+xml": [
      "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"
     ]
    }
   },
   "cell_type": "markdown",
   "id": "1dd8d6f9",
   "metadata": {},
   "source": [
    "## Drawing the CTMC model and assigning the rewards\n",
    "The markov chain model is shown in the following picture:\n",
    "\n",
    "![assignment10-states_2-2.svg](attachment:assignment10-states_2-2.svg)\n",
    "\n",
    "The distributions' rates associated with each edge are:\n",
    "- $D_{W,A} = \\frac{1}{10} s^{-1}$\n",
    "- $D_{R,A} = \\frac{1}{8} s^{-1}$\n",
    "- $D_{W,B} = \\frac{1}{5} s^{-1}$"
   ]
  },
  {
   "cell_type": "markdown",
   "id": "97344ec9",
   "metadata": {},
   "source": [
    "We can assign some rewards to each state and each edge that will be useful to compute the performance metrics of the system.\n",
    "\n",
    "For the states, we can consider the rewards *n* and *u* that will be useful, respectively, for the **average number of jobs** in the system and the **utilization** of the system.\n",
    "\n",
    "| | n | u |\n",
    "| --- | :-: | :-: |\n",
    "| $R_{A}, R_{B}$ | 2 | 1 |\n",
    "| $W_{A},R_{B}$ | 1 | 1 |\n",
    "| $R_{A},W_{B}$ | 1 | 1 |\n",
    "| $W_{A},W_{B}$ | 0 | 0 |\n"
   ]
  },
  {
   "cell_type": "code",
   "execution_count": 1,
   "id": "41c92045",
   "metadata": {},
   "outputs": [],
   "source": [
    "n = [2, 1, 1, 0]\n",
    "u = [1, 1, 1, 0]"
   ]
  },
  {
   "cell_type": "markdown",
   "id": "c7c2e446",
   "metadata": {},
   "source": [
    "The only edge reward we need is *c*, that consists in the number of completions and will be useful for the computation of the **throughput**.\n",
    "\n",
    "| | $R_{A}, R_{B}$ | $W_{A},R_{B}$ | $R_{A},W_{B}$ | $W_{A},W_{B}$ |\n",
    "| :--- | :--- | :--- | :--- | :--- |\n",
    "| $R_{A}, R_{B}$ | 0 | 1 | 1 | 0 |\n",
    "| $W_{A},R_{B}$ | 0 | 0 | 0 | 1 |\n",
    "| $R_{A},W_{B}$ | 0 | 0 | 0 | 1 |\n",
    "| $W_{A},W_{B}$ | 0 | 0 | 0 | 0 |\n"
   ]
  },
  {
   "cell_type": "code",
   "execution_count": 2,
   "id": "75b6eaa1",
   "metadata": {},
   "outputs": [],
   "source": [
    "import numpy as np\n",
    "c = np.array(\n",
    "    [[0, 1, 1, 0],\n",
    "     [0, 0, 0, 1],\n",
    "     [0, 0, 0, 1],\n",
    "     [0, 0, 0, 0]])"
   ]
  },
  {
   "cell_type": "markdown",
   "id": "48675bf7",
   "metadata": {},
   "source": [
    "## Computation of the infinitesimal generator\n",
    "\n",
    "The infinitesimal generator of the system is:\n",
    "\n",
    "$$Q = \\begin{bmatrix}\n",
    "(-\\frac{1}{8}-\\frac{1}{12})*\\frac{1}{2} & \\frac{1}{8}*\\frac{1}{2} & \\frac{1}{12}*\\frac{1}{2} & 0 \\\\\n",
    "\\frac{1}{10} & -\\frac{1}{10}-\\frac{1}{12} & 0 & \\frac{1}{12} \\\\\n",
    "\\frac{1}{5} & 0 & -\\frac{1}{5}-\\frac{1}{8} & \\frac{1}{8} \\\\\n",
    "0 & \\frac{1}{5} & \\frac{1}{10} & -\\frac{1}{5}-\\frac{1}{10}\n",
    "\\end{bmatrix}$$\n",
    "\n",
    "---\n",
    "\n",
    "(the states considered are, in order: $R_{A}, R_{B}$; $W_{A},R_{B}$; $R_{A},W_{B}$ and $W_{A},W_{B}$)"
   ]
  },
  {
   "cell_type": "code",
   "execution_count": 3,
   "id": "bb258b93",
   "metadata": {},
   "outputs": [],
   "source": [
    "D_wa = 1/10\n",
    "D_ra = 1/8\n",
    "D_wb = 1/5\n",
    "D_rb = 1/12\n",
    "\n",
    "Q = np.array([\n",
    "    [ (-D_ra-D_rb)/2,  D_ra/2,      D_rb/2,           0],\n",
    "    [       D_wa,  -D_wa-D_rb,           0,        D_rb],\n",
    "    [       D_wb,           0,  -D_wb-D_ra,        D_ra],\n",
    "    [          0,        D_wb,        D_wa,  -D_wb-D_wa]\n",
    "])"
   ]
  },
  {
   "cell_type": "markdown",
   "id": "b81fa663",
   "metadata": {},
   "source": [
    "## Steady state and transient probabilities\n",
    "\n",
    "Here we have now to compute the probabilities of the system being in each state, both at steady state and at the time requested by the exercise."
   ]
  },
  {
   "cell_type": "markdown",
   "id": "47e0dbc7",
   "metadata": {},
   "source": [
    "### Steady state"
   ]
  },
  {
   "cell_type": "code",
   "execution_count": 4,
   "id": "983b3870",
   "metadata": {},
   "outputs": [],
   "source": [
    "u_init = [1, 0, 0, 0]\n",
    "\n",
    "Q_steady = Q.copy()\n",
    "Q_steady[:,0] = [1, 1, 1, 1]\n",
    "\n",
    "ss_probabilities = np.matmul(u_init, np.linalg.inv(Q_steady))"
   ]
  },
  {
   "cell_type": "code",
   "execution_count": 5,
   "id": "93846aec",
   "metadata": {},
   "outputs": [
    {
     "name": "stdout",
     "output_type": "stream",
     "text": [
      "The steady state probabilities found are:\n",
      "\n",
      "Ra,Rb\t47.761194%\n",
      "Wa,Rb\t29.850746%\n",
      "Ra,Wb\t9.950249%\n",
      "Wa,Wb\t12.437811%\n"
     ]
    }
   ],
   "source": [
    "print(\"The steady state probabilities found are:\\n\")\n",
    "print(\"Ra,Rb\\t{:%}\".format(ss_probabilities[0]))\n",
    "print(\"Wa,Rb\\t{:%}\".format(ss_probabilities[1]))\n",
    "print(\"Ra,Wb\\t{:%}\".format(ss_probabilities[2]))\n",
    "print(\"Wa,Wb\\t{:%}\".format(ss_probabilities[3]))"
   ]
  },
  {
   "cell_type": "markdown",
   "id": "1b4dd5aa",
   "metadata": {},
   "source": [
    "### Transient\n",
    "The transient probabilities must be calculated at times t = 10s, t = 20s, t = 50s and t = 100s."
   ]
  },
  {
   "cell_type": "code",
   "execution_count": 6,
   "id": "7075b4d4",
   "metadata": {},
   "outputs": [
    {
     "name": "stdout",
     "output_type": "stream",
     "text": [
      "The transient probabilities found are:\n",
      "\n",
      "time: 10s\n",
      "\tRa,Rb\t56.663490%\n",
      "\tWa,Rb\t24.497398%\n",
      "\tRa,Wb\t9.820043%\n",
      "\tWa,Wb\t9.019069%\n",
      "time: 20s\n",
      "\tRa,Rb\t49.461861%\n",
      "\tWa,Rb\t28.774378%\n",
      "\tRa,Wb\t9.973839%\n",
      "\tWa,Wb\t11.789922%\n",
      "time: 50s\n",
      "\tRa,Rb\t47.773519%\n",
      "\tWa,Rb\t29.842736%\n",
      "\tRa,Wb\t9.950561%\n",
      "\tWa,Wb\t12.433184%\n",
      "time: 100s\n",
      "\tRa,Rb\t47.761197%\n",
      "\tWa,Rb\t29.850744%\n",
      "\tRa,Wb\t9.950249%\n",
      "\tWa,Wb\t12.437810%\n"
     ]
    }
   ],
   "source": [
    "from scipy import linalg as slin\n",
    "\n",
    "times = [10, 20, 50, 100]\n",
    "\n",
    "p0=[1, 0, 0, 0]\n",
    "tr_probabilities = []\n",
    "for t in times:\n",
    "    tr_probabilities.append(np.matmul(p0, slin.expm(Q*t)))\n",
    "    \n",
    "print(\"The transient probabilities found are:\\n\")\n",
    "for t,p in zip(times, tr_probabilities):\n",
    "    print(\"time: {}s\".format(t))\n",
    "    print(\"\\tRa,Rb\\t{:%}\".format(p[0]))\n",
    "    print(\"\\tWa,Rb\\t{:%}\".format(p[1]))\n",
    "    print(\"\\tRa,Wb\\t{:%}\".format(p[2]))\n",
    "    print(\"\\tWa,Wb\\t{:%}\".format(p[3]))"
   ]
  },
  {
   "cell_type": "markdown",
   "id": "68802f34",
   "metadata": {},
   "source": [
    "## Utilization (at steady state)"
   ]
  },
  {
   "cell_type": "markdown",
   "id": "14b57cb1",
   "metadata": {},
   "source": [
    "The steady state utilization can be computed starting from the state reward **u**."
   ]
  },
  {
   "cell_type": "code",
   "execution_count": 7,
   "id": "779d2aea",
   "metadata": {
    "scrolled": true
   },
   "outputs": [
    {
     "name": "stdout",
     "output_type": "stream",
     "text": [
      "The utilization of the system at the steady state is 0.8756\n"
     ]
    }
   ],
   "source": [
    "U = np.sum(ss_probabilities * u)\n",
    "\n",
    "print(\"The utilization of the system at the steady state is {:.4f}\".format(U))"
   ]
  },
  {
   "cell_type": "markdown",
   "id": "a15c9e6e",
   "metadata": {},
   "source": [
    "## Number of jobs (at steady state)"
   ]
  },
  {
   "cell_type": "markdown",
   "id": "b044d8d6",
   "metadata": {},
   "source": [
    "The the number of jobs at steady state can be computed starting from the state reward **n**."
   ]
  },
  {
   "cell_type": "code",
   "execution_count": 8,
   "id": "d1bf2c97",
   "metadata": {},
   "outputs": [
    {
     "name": "stdout",
     "output_type": "stream",
     "text": [
      "The number of jobs in the system at the steady state is 1.3532\n"
     ]
    }
   ],
   "source": [
    "N = np.sum(ss_probabilities * n)\n",
    "\n",
    "print(\"The number of jobs in the system at the steady state is {:.4f}\".format(N))"
   ]
  },
  {
   "cell_type": "markdown",
   "id": "a9cfa751",
   "metadata": {},
   "source": [
    "## System throughput (at steady state)\n",
    "The system throughput at steady state can be computed starting from the edge reward **c**."
   ]
  },
  {
   "cell_type": "code",
   "execution_count": 9,
   "id": "e02da1e0",
   "metadata": {},
   "outputs": [
    {
     "name": "stdout",
     "output_type": "stream",
     "text": [
      "The throughput of the system at the steady state is 0.0871\n"
     ]
    }
   ],
   "source": [
    "C = c*Q\n",
    "x = np.sum(c*Q,axis=1)\n",
    "X = np.sum(ss_probabilities * x)\n",
    "print(\"The throughput of the system at the steady state is {:.4f}\".format(X))"
   ]
  },
  {
   "cell_type": "markdown",
   "id": "e59b9d87",
   "metadata": {},
   "source": [
    "## The average number of jobs (at transient)\n",
    "The average number of jobs at transient time can be computed from the state reward **n** and the transient probabilities."
   ]
  },
  {
   "cell_type": "code",
   "execution_count": 10,
   "id": "46cb5fff",
   "metadata": {
    "scrolled": true
   },
   "outputs": [
    {
     "name": "stdout",
     "output_type": "stream",
     "text": [
      "The number of jobs in the system for each transient state is:\n",
      "\n",
      "t = 10s \t N = 1.4764\n",
      "t = 20s \t N = 1.3767\n",
      "t = 50s \t N = 1.3534\n",
      "t = 100s \t N = 1.3532\n"
     ]
    }
   ],
   "source": [
    "print(\"The number of jobs in the system for each transient state is:\\n\")\n",
    "for t,p in zip(times, tr_probabilities):\n",
    "    nt = np.sum(p * n)\n",
    "    print(\"t = {}s \\t N = {:.4f}\".format(t,nt))"
   ]
  }
 ],
 "metadata": {
  "kernelspec": {
   "display_name": "Python 3 (ipykernel)",
   "language": "python",
   "name": "python3"
  },
  "language_info": {
   "codemirror_mode": {
    "name": "ipython",
    "version": 3
   },
   "file_extension": ".py",
   "mimetype": "text/x-python",
   "name": "python",
   "nbconvert_exporter": "python",
   "pygments_lexer": "ipython3",
   "version": "3.9.7"
  }
 },
 "nbformat": 4,
 "nbformat_minor": 5
}
