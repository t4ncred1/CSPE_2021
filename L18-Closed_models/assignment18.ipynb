{
 "cells": [
  {
   "cell_type": "markdown",
   "id": "dd7fe9e9",
   "metadata": {},
   "source": [
    "# Assignment 18\n",
    "The intranet of a small company, with N = 100 employees, is composed by three servers:\n",
    "- the **mail server**, with an average service time of $S_{m}$ = 50  ms and $v_{m}$ = 0.7 visits\n",
    "- the **file server**, with an average service time of $S_{f}$ = 150  ms and $v_{f}$ = 0.2 visits\n",
    "- the **Intranet applications server**, with an average service time of $S_{a}$ =  25 ms and $v_{a}$ =  1 visits.\n",
    "\n",
    "The **think time** of the users is $Z$ = 10 s."
   ]
  },
  {
   "cell_type": "code",
   "execution_count": 7,
   "id": "d63a475b",
   "metadata": {},
   "outputs": [],
   "source": [
    "import numpy as np\n",
    "\n",
    "Ntot = 100\n",
    "\n",
    "S = [ 0.050, 0.150, 0.025]\n",
    "\n",
    "v = [ 0.7, 0.2, 1]\n",
    "\n",
    "Z = 10"
   ]
  },
  {
   "cell_type": "markdown",
   "id": "9a37e33e",
   "metadata": {},
   "source": [
    "## Requests\n",
    "- compute the demand of the three stations\n",
    "- compute the system throughput\n",
    "- compute the system response time"
   ]
  },
  {
   "cell_type": "markdown",
   "id": "846754e0",
   "metadata": {},
   "source": [
    "## Demands\n",
    "To compute the demands, we can use the usual formula $$D_{k} = S_{k} \\cdot v_{k}$$"
   ]
  },
  {
   "cell_type": "code",
   "execution_count": 8,
   "id": "96ef9cdb",
   "metadata": {},
   "outputs": [
    {
     "name": "stdout",
     "output_type": "stream",
     "text": [
      "The demand for the mail server is 0.034999999999999996\n",
      "The demand for the file server is 0.03\n",
      "The demand for the application server is 0.025\n"
     ]
    }
   ],
   "source": [
    "D = np.multiply(S, v)\n",
    "\n",
    "for name, value in zip([\"mail server\", \"file server\", \"application server\"], D):\n",
    "    print(\"The demand for the {} is {}\".format(name, value))"
   ]
  },
  {
   "cell_type": "markdown",
   "id": "4a271f46",
   "metadata": {},
   "source": [
    "## Response time and throughput\n",
    "To compute the response time of the system in a closed model, we need to use an iterative algorithm known as **Mean Value Analysis**.\n",
    "This arguments iterates over each different number of jobs in the system to compute the response time and the throughput, until we reach our target population.\n",
    "\n",
    "1. We start from the initial case of *1 element* in the system, where we can say that the residence time for each station is:\n",
    "\n",
    "    $$ R_{k}(1) = D_{k}$$\n",
    "    \n",
    "\n",
    "2. We can then generalize the computation for *N elements* in the system, where we can compute the response time of the system:\n",
    "    \n",
    "    $$ R(N) = \\sum_{k} R_{k}(N)$$ \n",
    "    \n",
    "\n",
    "3. At this point, we are able to compute the throughput of the system:\n",
    "    \n",
    "    $$ X(N) = \\frac{N}{R(N) + Z}$$\n",
    "    \n",
    "\n",
    "4. Then we shall compute the number of jobs in a station $k$:\n",
    "\n",
    "    $$ N_{k}(N) = X(N) \\cdot R_{k}(N)$$\n",
    "    \n",
    "\n",
    "5. Finally, we can compute the residence time in each station for the *next step* (with N+1 jobs in the system)\n",
    "\n",
    "    $$ R_{k}(N+1) = (1 + N_{k}(N))\\cdot D_{k}$$\n",
    "\n",
    "---\n",
    "\n",
    "With this algorithm we are able to compute both the response time and the throughput of the system with any number of jobs."
   ]
  },
  {
   "cell_type": "code",
   "execution_count": 16,
   "id": "d9def83a",
   "metadata": {},
   "outputs": [
    {
     "name": "stdout",
     "output_type": "stream",
     "text": [
      "\n",
      "The throughput of the system with 100 jobs in it is 9.8731\n",
      "The response time of the system with 100 jobs in it is 0.1285\n"
     ]
    }
   ],
   "source": [
    "Rtot = []\n",
    "X = []\n",
    "R = []\n",
    "N = [[0, 0, 0]]\n",
    "\n",
    "debug=False\n",
    "\n",
    "for i in range(0,Ntot):\n",
    "    if debug: print(\"\\nIteration number {}\".format(i))\n",
    "    R.append( np.multiply( np.add(N[i],1) , D) )\n",
    "    if debug: print(\"R: {}\".format(R[-1]))\n",
    "    Rtot.append(sum(R[i]))\n",
    "    if debug: print(\"rtime: {}\".format(Rtot[-1]))\n",
    "    X.append((i+1)/(Rtot[i]+Z))\n",
    "    if debug: print(\"thrp: {}\".format(X[-1]))\n",
    "    N.append(R[i]*X[i])\n",
    "    if debug: print(\"N: {}\".format(N[-1]))\n",
    "\n",
    "print(\"\\nThe throughput of the system with 100 jobs in it is {:.4f}\".format(X[-1]))\n",
    "print(\"The response time of the system with 100 jobs in it is {:.4f}\".format(Rtot[-1]))"
   ]
  }
 ],
 "metadata": {
  "kernelspec": {
   "display_name": "Python 3 (ipykernel)",
   "language": "python",
   "name": "python3"
  },
  "language_info": {
   "codemirror_mode": {
    "name": "ipython",
    "version": 3
   },
   "file_extension": ".py",
   "mimetype": "text/x-python",
   "name": "python",
   "nbconvert_exporter": "python",
   "pygments_lexer": "ipython3",
   "version": "3.9.7"
  }
 },
 "nbformat": 4,
 "nbformat_minor": 5
}
