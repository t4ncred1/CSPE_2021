{
 "cells": [
  {
   "cell_type": "markdown",
   "id": "7c3e10fb",
   "metadata": {},
   "source": [
    "# Assignment 15\n",
    "This assignment is divided in two parts in which we are asked to model different queues.\n",
    "\n",
    "## Part 1 - Performance indices of an M/G/1 queue\n",
    "A server receives jobs according to a Poisson process of rate $\\lambda$ = 3 $\\frac{j}{s}$.\n",
    "\n",
    "The duration of each job is distributed according to an Hyper-Exponential, of rates $\\mu_{1}$ = 1 $\\frac{j}{s}$ (prob. 0.2) and $\\mu_{2}$ = 10 $\\frac{j}{s}$ (prob. 0.8)."
   ]
  },
  {
   "cell_type": "code",
   "execution_count": 1,
   "id": "81a38c08",
   "metadata": {},
   "outputs": [],
   "source": [
    "l_mg1 = 3\n",
    "mu1_mg1 = 1\n",
    "p_mg1 = 0.2\n",
    "mu2_mg1 = 10"
   ]
  },
  {
   "cell_type": "markdown",
   "id": "c5140bbc",
   "metadata": {},
   "source": [
    "### Requests\n",
    "- Compute the utilization of the system\n",
    "- Compute the average number of jobs in the system\n",
    "- Compute the average response time"
   ]
  },
  {
   "cell_type": "markdown",
   "id": "80cad26a",
   "metadata": {},
   "source": [
    "### First and second moments of the service distribution\n",
    "The first and second moments of the service distribution will be useful for the computation of the other performance indices.\n",
    "\n",
    "In particular, the first moment of the service distribution will be (by definition of average service time) the performance index $D$.\n",
    "\n",
    "The first moment of an hyper exponential can be computed as:\n",
    "$$E[X_{hyp}] = \\sum^{n}_{i=1}\\frac{p_{i}}{\\lambda_{i}}$$\n",
    "While the second moment can be computed as:\n",
    "$$E[X_{hyp}^{2}] = \\sum^{n}_{i=1}\\frac{2p_{i}}{\\lambda_{i}^{2}}$$"
   ]
  },
  {
   "cell_type": "code",
   "execution_count": 2,
   "id": "8351d4ea",
   "metadata": {},
   "outputs": [],
   "source": [
    "debug = False\n",
    "m1_mg1 = p_mg1/mu1_mg1 + (1-p_mg1)/mu2_mg1\n",
    "D_mg1 = m1_mg1\n",
    "m2_mg1 = 2*(p_mg1/mu1_mg1**2 + (1-p_mg1)/mu2_mg1**2)\n",
    "if debug: print(m1_mg1, D_mg1, m2_mg1)"
   ]
  },
  {
   "cell_type": "markdown",
   "id": "fe51d6b0",
   "metadata": {},
   "source": [
    "### Average Utilization\n",
    "The computation of the average utilization of the system follows the utilization formula $$U=\\lambda\\cdot D = \\rho$$"
   ]
  },
  {
   "cell_type": "code",
   "execution_count": 3,
   "id": "4d868280",
   "metadata": {},
   "outputs": [
    {
     "name": "stdout",
     "output_type": "stream",
     "text": [
      "The average utilization of the system is 0.8400\n"
     ]
    }
   ],
   "source": [
    "U_mg1 = l_mg1 * D_mg1\n",
    "rho_mg1 = U_mg1\n",
    "\n",
    "print(\"The average utilization of the system is {:.4f}\".format(U_mg1))"
   ]
  },
  {
   "cell_type": "markdown",
   "id": "28211ada",
   "metadata": {},
   "source": [
    "### Average Response time\n",
    "The average response time of the system can be split up in multiple time frames \n",
    "\n",
    "$$R = D + W + w$$\n",
    "Where:\n",
    "- $D$ is the service time of the job\n",
    "- $W$ is the time the job waits in queue\n",
    "- $w$ is the remaining time for the currently active job to complete"
   ]
  },
  {
   "cell_type": "markdown",
   "id": "29344191",
   "metadata": {},
   "source": [
    "The queue waiting time $W$ can be expressed in terms of the time $w$ $$W = \\frac{\\rho\\cdot w}{1-\\rho}$$"
   ]
  },
  {
   "cell_type": "markdown",
   "id": "a26cffb3",
   "metadata": {},
   "source": [
    "The remaining time for the currently acrtive job $w$ can be computed through the formula $$w = \\frac{\\lambda\\cdot m_{2}}{2}$$"
   ]
  },
  {
   "cell_type": "code",
   "execution_count": 4,
   "id": "0e944848",
   "metadata": {},
   "outputs": [
    {
     "name": "stdout",
     "output_type": "stream",
     "text": [
      "The average response time of the system is 4.1800\n"
     ]
    }
   ],
   "source": [
    "w_mg1 = l_mg1*m2_mg1/2\n",
    "W_mg1 = rho_mg1*w_mg1/(1-rho_mg1)\n",
    "R_mg1 = D_mg1 + W_mg1 + w_mg1\n",
    "\n",
    "print(\"The average response time of the system is {:.4f}\".format(R_mg1))"
   ]
  },
  {
   "cell_type": "markdown",
   "id": "8003d9fb",
   "metadata": {},
   "source": [
    "### Average number of jobs in the system\n",
    "The average number of jobs in the system can be computed easily from the response time of the system through the application of Little's law.\n",
    "$$N = R\\cdot X = R\\cdot\\lambda$$"
   ]
  },
  {
   "cell_type": "code",
   "execution_count": 5,
   "id": "7cec85ca",
   "metadata": {},
   "outputs": [
    {
     "name": "stdout",
     "output_type": "stream",
     "text": [
      "The average number of jobs in the system is 12.5400\n"
     ]
    }
   ],
   "source": [
    "N_mg1 = R_mg1 * l_mg1\n",
    "\n",
    "print(\"The average number of jobs in the system is {:.4f}\".format(N_mg1))"
   ]
  },
  {
   "cell_type": "markdown",
   "id": "ee031587",
   "metadata": {},
   "source": [
    "## Part 2 - Performance indices of an G/G/2 queue\n",
    "A dual core server receives jobs with **inter-arrival time** distributed according to a **uniform distribution** between 0.1 and 0.2. \n",
    "The **duration of each job** is distributed according to an **Hyper-Exponential**, of rate $\\mu_{1}$ = 1 $\\frac{j}{s}$ (with prob. 0.2) and $\\mu_{2}$ = 10 $\\frac{j}{s}$ (with prob. 0.8)."
   ]
  },
  {
   "cell_type": "code",
   "execution_count": 6,
   "id": "96da3051",
   "metadata": {},
   "outputs": [],
   "source": [
    "a_gg2 = 0.1\n",
    "b_gg2 = 0.2\n",
    "mu1_gg2 = 1\n",
    "mu2_gg2 = 10\n",
    "p_gg2 = 0.2"
   ]
  },
  {
   "cell_type": "markdown",
   "id": "7f256993",
   "metadata": {},
   "source": [
    "### Requests\n",
    "- Compute the utilization of the system\n",
    "- Compute the average number of jobs in the system\n",
    "- Compute the average response time"
   ]
  },
  {
   "cell_type": "markdown",
   "id": "3586082c",
   "metadata": {},
   "source": [
    "### Average Response time\n",
    "Since the considered system is a G/G/2 queue, we'll need to start from the Response time and approximate its value with a special formula called the **Kingsman formula**.\n",
    "\n",
    "$$R \\cong D + \\left[\\frac{c_{a}^{2}+c_{v}^{2}}{2}\\right]E[\\Theta_{M/M/c}]$$"
   ]
  },
  {
   "cell_type": "markdown",
   "id": "bc83a9de",
   "metadata": {},
   "source": [
    "Where:\n",
    "- $c_{a}$ and $c_{v}$ are the coefficients of variation of the inter arrival time distribution and the service time distribution, respectively"
   ]
  },
  {
   "cell_type": "code",
   "execution_count": 7,
   "id": "826bdfb0",
   "metadata": {},
   "outputs": [],
   "source": [
    "import math as m\n",
    "\n",
    "m1_hyp_gg2 = p_gg2/mu1_gg2 + (1-p_gg2)/mu2_gg2\n",
    "var_hyp_gg2 = 2*(p_gg2)/mu1_gg2**2+2*(1-p_gg2)/mu2_gg2**2 - m1_hyp_gg2**2\n",
    "\n",
    "cv_gg2 = m.sqrt(var_hyp_gg2)/m1_hyp_gg2\n",
    "\n",
    "m1_uni_gg2 = (a_gg2+b_gg2)/2\n",
    "var_uni_gg2 = ((b_gg2 - a_gg2)**2)/12\n",
    "\n",
    "ca_gg2 = m.sqrt(var_uni_gg2)/m1_uni_gg2"
   ]
  },
  {
   "cell_type": "markdown",
   "id": "fc271d53",
   "metadata": {},
   "source": [
    "- $D$ is the average service time (or the first moment of the distribution of the service time)"
   ]
  },
  {
   "cell_type": "code",
   "execution_count": 8,
   "id": "2362d177",
   "metadata": {},
   "outputs": [],
   "source": [
    "D_gg2 = m1_hyp_gg2"
   ]
  },
  {
   "cell_type": "markdown",
   "id": "1c866739",
   "metadata": {},
   "source": [
    "- $\\Theta_{M/M/c}$ is the expected waiting time in the corresponding M/M/c queue.\n",
    "\n",
    "The arrival rate of the M/M/c queue to consider will be $\\frac{1}{T}$, where $T$ is the average inter arrival time of the queue.  \n",
    "\n"
   ]
  },
  {
   "cell_type": "code",
   "execution_count": 9,
   "id": "cf4351af",
   "metadata": {},
   "outputs": [],
   "source": [
    "l_mm2_gg2 = 1/m1_uni_gg2\n",
    "rho_mm2_gg2 = l_mm2_gg2 * D_gg2/2\n",
    "\n",
    "theta_mm2_gg2 = (D_gg2/(2*(1-rho_mm2_gg2))) / (1 + (1-rho_mm2_gg2)*(2/(2*rho_mm2_gg2)**2)*(1 + 2*rho_mm2_gg2))"
   ]
  },
  {
   "cell_type": "code",
   "execution_count": 10,
   "id": "8f026b5d",
   "metadata": {},
   "outputs": [
    {
     "name": "stdout",
     "output_type": "stream",
     "text": [
      "The average response time of the system is (approximately) 4.3895\n"
     ]
    }
   ],
   "source": [
    "R_gg2 = D_gg2 + (ca_gg2**2+cv_gg2**2)/2 * theta_mm2_gg2\n",
    "\n",
    "print(\"The average response time of the system is (approximately) {:.4f}\".format(R_gg2))"
   ]
  },
  {
   "cell_type": "markdown",
   "id": "a07affd4",
   "metadata": {},
   "source": [
    "### Utilization of the system\n",
    "\n",
    "The average utilization of the system will be $$U = \\frac{D \\cdot \\lambda}{2}$$\n",
    "\n",
    "In this case, to compute our lambda we will use the inverse of the average inter arrival time of the system (just like if our arrivals were poisson distributed)."
   ]
  },
  {
   "cell_type": "code",
   "execution_count": 11,
   "id": "ac582edf",
   "metadata": {},
   "outputs": [
    {
     "name": "stdout",
     "output_type": "stream",
     "text": [
      "The average utilization of the system will be 0.9333\n"
     ]
    }
   ],
   "source": [
    "Uavg_gg2 = rho_mm2_gg2\n",
    "\n",
    "print(\"The average utilization of the system will be {:.4f}\".format(Uavg_gg2))"
   ]
  },
  {
   "cell_type": "markdown",
   "id": "6c6eab79",
   "metadata": {},
   "source": [
    "### Average Number of jobs in the system\n",
    "\n",
    "The average number of jobs in the system will, as usual, be computed starting from Little's law."
   ]
  },
  {
   "cell_type": "code",
   "execution_count": 12,
   "id": "20a2e0ab",
   "metadata": {},
   "outputs": [
    {
     "name": "stdout",
     "output_type": "stream",
     "text": [
      "The average number of jobs in the system is 29.2635\n"
     ]
    }
   ],
   "source": [
    "N_gg2 = R_gg2 * l_mm2_gg2\n",
    "\n",
    "print(\"The average number of jobs in the system is {:.4f}\".format(N_gg2))"
   ]
  }
 ],
 "metadata": {
  "kernelspec": {
   "display_name": "Python 3 (ipykernel)",
   "language": "python",
   "name": "python3"
  },
  "language_info": {
   "codemirror_mode": {
    "name": "ipython",
    "version": 3
   },
   "file_extension": ".py",
   "mimetype": "text/x-python",
   "name": "python",
   "nbconvert_exporter": "python",
   "pygments_lexer": "ipython3",
   "version": "3.9.7"
  }
 },
 "nbformat": 4,
 "nbformat_minor": 5
}
