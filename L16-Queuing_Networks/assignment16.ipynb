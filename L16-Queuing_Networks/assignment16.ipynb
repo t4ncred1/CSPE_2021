{
 "cells": [
  {
   "cell_type": "markdown",
   "id": "96d94d91",
   "metadata": {},
   "source": [
    "# Assignment 16\n",
    "A three tier application serves a Poisson stream of requests, at rate $\\lambda$ = 10 $\\frac{jobs}{s}$.\n",
    "The three tiers are: \n",
    "- a web server (demand $D_{1}$ = 85 ms)\n",
    "- a DB server (demand $D_{2}$ = 75 ms)\n",
    "- a storage server (demand $D_{3}$ = 50 ms)"
   ]
  },
  {
   "cell_type": "code",
   "execution_count": 1,
   "id": "acfaa747",
   "metadata": {},
   "outputs": [],
   "source": [
    "D_1 = 85/1000\n",
    "D_2 = 75/1000\n",
    "D_3 = 50/1000\n",
    "\n",
    "l = 10"
   ]
  },
  {
   "cell_type": "markdown",
   "id": "34842a18",
   "metadata": {},
   "source": [
    "## Requests\n",
    "Compute:\n",
    "- The utilization of the three stations\n",
    "- The average number of jobs in the three stations\n",
    "- The average system response time"
   ]
  },
  {
   "cell_type": "markdown",
   "id": "5a8e8dfe",
   "metadata": {},
   "source": [
    "## Assumptions\n",
    "In the following results, I assumed that:\n",
    "- the three tiers of the application are cascaded. This means that a job will pass exactly once through each tier before completion.\n",
    "- No blocking is performed"
   ]
  },
  {
   "cell_type": "markdown",
   "id": "2e3d6b53",
   "metadata": {},
   "source": [
    "## Utilization of each station\n",
    "The utilization of the three stations can be computed starting from Little's law, considering its formulation for queuing networks\n",
    "\n",
    "$$U_{k} = X_{k} \\cdot S_{k} = X \\cdot D_{k}$$\n",
    "\n",
    "Thanks to the stability condition (still valid for the system, since we assumed no blocking is performed), we can say that the throughput of the system should be $\\lambda$ for the system to be stable."
   ]
  },
  {
   "cell_type": "code",
   "execution_count": 2,
   "id": "4a91757b",
   "metadata": {},
   "outputs": [
    {
     "name": "stdout",
     "output_type": "stream",
     "text": [
      "The three utilizations for the three tiers are:\n",
      "web server: 0.8500\n",
      "DB server: 0.7500\n",
      "Storage server: 0.5000\n"
     ]
    }
   ],
   "source": [
    "U_1 = l * D_1\n",
    "U_2 = l * D_2\n",
    "U_3 = l * D_3\n",
    "\n",
    "print(\"The three utilizations for the three tiers are:\\nweb server: {:.4f}\\nDB server: {:.4f}\\nStorage server: {:.4f}\".format(U_1, U_2, U_3))"
   ]
  },
  {
   "cell_type": "markdown",
   "id": "f0553918",
   "metadata": {},
   "source": [
    "## Response time of the system\n",
    "To compute the response time of the system, we need to sum up the residence times of each station, which can be computed as\n",
    "\n",
    "$$R_{k} = \\frac{D_{k}}{1-U_{k}}$$"
   ]
  },
  {
   "cell_type": "code",
   "execution_count": 3,
   "id": "ec1d4989",
   "metadata": {},
   "outputs": [
    {
     "name": "stdout",
     "output_type": "stream",
     "text": [
      "The residence time of the system is 0.9667 s\n"
     ]
    }
   ],
   "source": [
    "R_1 = D_1/(1-U_1)\n",
    "R_2 = D_2/(1-U_2)\n",
    "R_3 = D_3/(1-U_3)\n",
    "R = R_1 + R_2 + R_3\n",
    "\n",
    "print(\"The residence time of the system is {:.4f} s\".format(R))"
   ]
  },
  {
   "cell_type": "markdown",
   "id": "533d8866",
   "metadata": {},
   "source": [
    "## Average Number of jobs in each station\n",
    "In each station, the average number of jobs can be computed as \n",
    "\n",
    "$$N_{k} = X\\cdot R_{k}$$\n",
    "\n",
    "Thanks to the stability condition (still valid for the system, since we assumed no blocking is performed), we can say that the throughput of the system should be $\\lambda$ for the system to be stable."
   ]
  },
  {
   "cell_type": "code",
   "execution_count": 4,
   "id": "db838a7e",
   "metadata": {},
   "outputs": [
    {
     "name": "stdout",
     "output_type": "stream",
     "text": [
      "The average number of jobs in each tier is:\n",
      "Web server: 5.6667\n",
      "DB server: 3.0000\n",
      "Storage server: 1.0000\n"
     ]
    }
   ],
   "source": [
    "N_1 = l * R_1\n",
    "N_2 = l * R_2\n",
    "N_3 = l * R_3\n",
    "\n",
    "print(\"The average number of jobs in each tier is:\\nWeb server: {:.4f}\\nDB server: {:.4f}\\nStorage server: {:.4f}\".format(N_1, N_2, N_3))"
   ]
  }
 ],
 "metadata": {
  "kernelspec": {
   "display_name": "Python 3 (ipykernel)",
   "language": "python",
   "name": "python3"
  },
  "language_info": {
   "codemirror_mode": {
    "name": "ipython",
    "version": 3
   },
   "file_extension": ".py",
   "mimetype": "text/x-python",
   "name": "python",
   "nbconvert_exporter": "python",
   "pygments_lexer": "ipython3",
   "version": "3.9.7"
  }
 },
 "nbformat": 4,
 "nbformat_minor": 5
}
