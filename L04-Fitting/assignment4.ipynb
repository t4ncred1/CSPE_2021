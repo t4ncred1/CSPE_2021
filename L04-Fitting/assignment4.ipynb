{
 "cells": [
  {
   "cell_type": "markdown",
   "id": "84a532c3",
   "metadata": {},
   "source": [
    "# **Assignment 4**\n",
    "\n",
    "The objective of the assignment is to fit a provided set of 4 data traces against different distributions using the *method of moments* and the *maximum likelihood method* and compare against the data on a plot."
   ]
  },
  {
   "cell_type": "markdown",
   "id": "d6fec1ae",
   "metadata": {},
   "source": [
    "## Initialization\n",
    "First of all, we need to:\n",
    "- tell ipython how to treat the generated plots\n",
    "- import the necessary libraries\n",
    "- read the data sets from the provided csv file."
   ]
  },
  {
   "cell_type": "code",
   "execution_count": 16,
   "id": "b6c7f434",
   "metadata": {},
   "outputs": [],
   "source": [
    "%matplotlib tk\n",
    "import csv\n",
    "import numpy as np\n",
    "from scipy.optimize import root\n",
    "from scipy.optimize import minimize\n",
    "from matplotlib import pyplot as plt\n",
    "\n",
    "data = csv.reader(open(\"./Assignment and Dataset/Traces.csv\"))\n",
    "data = [[float(x) for x in row] for row in data]\n",
    "data = np.transpose(data)"
   ]
  },
  {
   "cell_type": "markdown",
   "id": "22f08393",
   "metadata": {},
   "source": [
    "## Method of moments\n",
    "Let's fit the data against some distributions by using the method of moments first.\n",
    "In particular, we will try to fit the data against:\n",
    "- a uniform distribution\n",
    "- an exponential distribution\n",
    "- a two stages hyper-exponential distribution\n",
    "- a two stages hypo-exponential distribution"
   ]
  },
  {
   "cell_type": "markdown",
   "id": "cc6685ba",
   "metadata": {},
   "source": [
    "### Finding the moments\n",
    "We need to find the first three moments of each data trace to be used to estimate the parameters."
   ]
  },
  {
   "cell_type": "code",
   "execution_count": 2,
   "id": "ce83bc2d",
   "metadata": {},
   "outputs": [
    {
     "name": "stdout",
     "output_type": "stream",
     "text": [
      "                  Dataset 1      Dataset 2      Dataset 3      Dataset 4      \n",
      "\n",
      "first moment      7.4913         6.9630         7.7766         7.7348         \n",
      "second moment     58.2225        102.1096       205.2542       94.3765        \n",
      "third moment      467.7512       2316.8227      10849.6130     1609.7027      \n"
     ]
    }
   ],
   "source": [
    "m1 = np.mean(data, 1)\n",
    "m2 = np.mean([[x**2 for x in row] for row in data], 1)\n",
    "m3 = np.mean([[x**3 for x in row] for row in data], 1)\n",
    "\n",
    "print(\"{!s: <18}{!s:<15}{!s:<15}{!s:<15}{!s:<15}\\n\".format(\"\",\"Dataset 1\",\"Dataset 2\",\"Dataset 3\",\"Dataset 4\"))    \n",
    "print(\"{!s: <18}{:<15.4f}{:<15.4f}{:<15.4f}{:<15.4f}\".format(\"first moment\",m1[0],m1[1],m1[2],m1[3]))\n",
    "print(\"{!s: <18}{:<15.4f}{:<15.4f}{:<15.4f}{:<15.4f}\".format(\"second moment\",m2[0],m2[1],m2[2],m2[3]))\n",
    "print(\"{!s: <18}{:<15.4f}{:<15.4f}{:<15.4f}{:<15.4f}\".format(\"third moment\",m3[0],m3[1],m3[2],m3[3]))"
   ]
  },
  {
   "cell_type": "markdown",
   "id": "8109d64c",
   "metadata": {},
   "source": [
    "### Uniform distribution\n",
    "Find the parameters of a uniform distribution that better fit the provided data traces."
   ]
  },
  {
   "cell_type": "code",
   "execution_count": 3,
   "id": "884db02f",
   "metadata": {},
   "outputs": [
    {
     "name": "stdout",
     "output_type": "stream",
     "text": [
      "      Dataset 1      Dataset 2      Dataset 3      Dataset 4      \n",
      "\n",
      "a     4.9795         -5.7208        -13.0640       -2.4459        \n",
      "b     10.0031        19.6468        28.6173        17.9156        \n"
     ]
    }
   ],
   "source": [
    "def mm_unif_pars(moment1, moment2):\n",
    "    a = moment1 - 1/2*(np.sqrt(12*(moment2-moment1**2)))\n",
    "    b = moment1 + 1/2*(np.sqrt(12*(moment2-moment1**2)))\n",
    "    return [a, b]\n",
    "\n",
    "mm_Unif = []\n",
    "for i in range(0,4):\n",
    "    mm_Unif.append(mm_unif_pars(m1[i], m2[i]))\n",
    "\n",
    "\n",
    "print(\"{!s: <6}{!s:<15}{!s:<15}{!s:<15}{!s:<15}\\n\".format(\"\",\"Dataset 1\",\"Dataset 2\",\"Dataset 3\",\"Dataset 4\"))    \n",
    "print(\"{!s: <6}{:<15.4f}{:<15.4f}{:<15.4f}{:<15.4f}\".format(\"a\",mm_Unif[0][0],mm_Unif[1][0],mm_Unif[2][0],mm_Unif[3][0]))\n",
    "print(\"{!s: <6}{:<15.4f}{:<15.4f}{:<15.4f}{:<15.4f}\".format(\"b\",mm_Unif[0][1],mm_Unif[1][1],mm_Unif[2][1],mm_Unif[3][1]))"
   ]
  },
  {
   "cell_type": "markdown",
   "id": "fc7eeb63",
   "metadata": {},
   "source": [
    "### Exponential distribution\n",
    "Find the parameters of an exponential distribution that better fit the provided data traces."
   ]
  },
  {
   "cell_type": "code",
   "execution_count": 4,
   "id": "3b57c804",
   "metadata": {},
   "outputs": [
    {
     "name": "stdout",
     "output_type": "stream",
     "text": [
      "          Dataset 1      Dataset 2      Dataset 3      Dataset 4      \n",
      "\n",
      "lambda    0.1335         0.1436         0.1286         0.1293         \n"
     ]
    }
   ],
   "source": [
    "def mm_exp_pars(moment1):\n",
    "    l = 1/moment1\n",
    "    return l\n",
    "\n",
    "mm_Exp = []\n",
    "for i in range(0,4):\n",
    "    mm_Exp.append(mm_exp_pars(m1[i]))\n",
    "print(\"{!s: <10}{!s:<15}{!s:<15}{!s:<15}{!s:<15}\\n\".format(\"\",\"Dataset 1\",\"Dataset 2\",\"Dataset 3\",\"Dataset 4\"))    \n",
    "print(\"{!s: <10}{:<15.4f}{:<15.4f}{:<15.4f}{:<15.4f}\".format(\"lambda\",mm_Exp[0],mm_Exp[1] ,mm_Exp[2] ,mm_Exp[3]))"
   ]
  },
  {
   "cell_type": "markdown",
   "id": "dd4377c5",
   "metadata": {},
   "source": [
    "### Hyper-exponential distribution\n",
    "Find the parameters of a hyper-exponential distribution that better fit the provided data traces."
   ]
  },
  {
   "cell_type": "code",
   "execution_count": 5,
   "id": "37a813f0",
   "metadata": {},
   "outputs": [
    {
     "name": "stdout",
     "output_type": "stream",
     "text": [
      "            Dataset 1      Dataset 2      Dataset 3      Dataset 4      \n",
      "\n",
      "lambda 1    0.221210209    0.1274         0.0507         0.1511         \n",
      "lambda 2    0.221210216    0.2459         0.2355         0.1511         \n",
      "p           0.5002         0.7655         0.2281         0.5020         \n"
     ]
    }
   ],
   "source": [
    "def mm_hyper_pars(moment1, moment2, moment3, start):\n",
    "    def hyper_eqs(par):\n",
    "        lambda1, lambda2, p = par\n",
    "        if lambda1<0:\n",
    "            return (100000 + abs(lambda1), 100000 + abs(lambda1), 100000 + abs(lambda1))\n",
    "        if lambda2<0:\n",
    "            return (100000 + abs(lambda2), 100000 + abs(lambda2), 100000 + abs(lambda2))\n",
    "        if p>1:\n",
    "            return (100000 + abs(p), 100000 + abs(p), 100000 + abs(p))\n",
    "        if p<0:\n",
    "            return (100000 + abs(p), 100000 + abs(p), 100000 + abs(p))\n",
    "\n",
    "        return[((p/lambda1 + (1-p)/lambda2))/moment1-1,\n",
    "               (2*(p/(lambda1**2) + (1-p)/(lambda2**2)))/moment2-1,\n",
    "               (6*(p/(lambda1**3) + (1-p)/(lambda2**3)))/moment3-1]\n",
    "\n",
    "    sol = root(hyper_eqs, start, method='lm')\n",
    "    return sol.x\n",
    "\n",
    "mm_Hyper = []\n",
    "for i in range(0,4):\n",
    "#    if i != 2:\n",
    "#       mm_Hyper.append(mm_hyper_pars(m1[i], m2[i], m3[i], [0.5, 0.5, 0.5]))\n",
    "#    else:\n",
    "#        mm_Hyper.append(mm_hyper_pars(m1[i], m2[i], m3[i], [0.5, 0.5, 0.0]))\n",
    "        mm_Hyper.append(mm_hyper_pars(m1[i], m2[i], m3[i], [0.5, 0.5, 0.5]))\n",
    "\n",
    "print(\"{!s: <12}{!s:<15}{!s:<15}{!s:<15}{!s:<15}\\n\".format(\"\",\"Dataset 1\",\"Dataset 2\",\"Dataset 3\",\"Dataset 4\"))    \n",
    "print(\"{!s: <12}{:<15.9f}{:<15.4f}{:<15.4f}{:<15.4f}\".format(\"lambda 1\",mm_Hyper[0][0],mm_Hyper[1][0] ,mm_Hyper[2][0] ,mm_Hyper[3][0]))\n",
    "print(\"{!s: <12}{:<15.9f}{:<15.4f}{:<15.4f}{:<15.4f}\".format(\"lambda 2\",mm_Hyper[0][1],mm_Hyper[1][1] ,mm_Hyper[2][1] ,mm_Hyper[3][1]))\n",
    "print(\"{!s: <12}{:<15.4f}{:<15.4f}{:<15.4f}{:<15.4f}\".format(\"p\",mm_Hyper[0][2],mm_Hyper[1][2] ,mm_Hyper[2][2] ,mm_Hyper[3][2]))"
   ]
  },
  {
   "cell_type": "markdown",
   "id": "1cc6e77e",
   "metadata": {},
   "source": [
    "*Note: I printed some more digits for the first dataset because I wanted to show that the two lambdas are not the same (in which case the hyper exponential would have been a simple exponential, but with a different parameter than the one obtained for the exponential).*"
   ]
  },
  {
   "cell_type": "markdown",
   "id": "a9b8991a",
   "metadata": {},
   "source": [
    "### Hypo-exponential distribution\n",
    "Find the parameters of a hypo-exponential distribution that better fit the provided data traces."
   ]
  },
  {
   "cell_type": "code",
   "execution_count": 6,
   "id": "1c90011a",
   "metadata": {},
   "outputs": [
    {
     "name": "stdout",
     "output_type": "stream",
     "text": [
      "            Dataset 1      Dataset 2      Dataset 3      Dataset 4      \n",
      "\n",
      "lambda 1    0.312041759    0.1407         0.1067         0.1855         \n",
      "lambda 2    0.312038686    11380425.6737  6834624.7702   0.4264         \n"
     ]
    }
   ],
   "source": [
    "def mm_hypo_pars(moment1, moment2, start):\n",
    "    def hypo_eqs(par):\n",
    "        lambda1, lambda2 = par\n",
    "        return((1/lambda1 + 1/lambda2)/moment1 - 1,\n",
    "               (1/lambda1**2 + 1/lambda2**2 + 1/(lambda1*lambda2))*2/moment2 - 1)\n",
    "    sol = root(hypo_eqs, start, method='lm')\n",
    "    return sol.x\n",
    "\n",
    "mm_Hypo = []\n",
    "for i in range(0,4):\n",
    "    mm_Hypo.append(mm_hypo_pars(m1[i],  m2[i],  [0.5,  0.5]))\n",
    "    \n",
    "print(\"{!s: <12}{!s:<15}{!s:<15}{!s:<15}{!s:<15}\\n\".format(\"\",\"Dataset 1\",\"Dataset 2\",\"Dataset 3\",\"Dataset 4\"))    \n",
    "print(\"{!s: <12}{:<15.9f}{:<15.4f}{:<15.4f}{:<15.4f}\".format(\"lambda 1\",mm_Hypo[0][0],mm_Hypo[1][0] ,mm_Hypo[2][0] ,mm_Hypo[3][0]))\n",
    "print(\"{!s: <12}{:<15.9f}{:<15.4f}{:<15.4f}{:<15.4f}\".format(\"lambda 2\",mm_Hypo[0][1],mm_Hypo[1][1] ,mm_Hypo[2][1] ,mm_Hypo[3][1]))"
   ]
  },
  {
   "cell_type": "markdown",
   "id": "da14cb02",
   "metadata": {},
   "source": [
    "## Maximum likelihood method\n",
    "Let's now fit the data against some distributions by using the maximum likelihood method.\n",
    "In particular, we will try to fit the data against:\n",
    "- an exponential distribution\n",
    "- a two stages hyper-exponential distribution\n",
    "- a two stages hypo-exponential distribution"
   ]
  },
  {
   "cell_type": "markdown",
   "id": "5fd088ea",
   "metadata": {},
   "source": [
    "### Exponential distribution\n",
    "Find the parameters of an exponential distribution that better fit the provided data traces."
   ]
  },
  {
   "cell_type": "code",
   "execution_count": 7,
   "id": "3c386af2",
   "metadata": {},
   "outputs": [
    {
     "name": "stdout",
     "output_type": "stream",
     "text": [
      "          Dataset 1      Dataset 2      Dataset 3      Dataset 4      \n",
      "\n",
      "lambda    0.1335         0.1436         0.1286         0.1293         \n"
     ]
    }
   ],
   "source": [
    "def ml_exp_pars(start, values):\n",
    "\n",
    "    def exp_eqs(lamb):\n",
    "        return (-len(values)*np.log(lamb)) + (lamb*np.sum(values))\n",
    "\n",
    "    sol = minimize(exp_eqs, x0=start, bounds=[(0, np.Inf)])\n",
    "    return sol.x\n",
    "\n",
    "ml_Exp = []\n",
    "for i in range(0,4):\n",
    "    ml_Exp.append(ml_exp_pars(mm_Exp[i], data[i]))\n",
    "\n",
    "print(\"{!s: <10}{!s:<15}{!s:<15}{!s:<15}{!s:<15}\\n\".format(\"\",\"Dataset 1\",\"Dataset 2\",\"Dataset 3\",\"Dataset 4\"))    \n",
    "print(\"{!s: <10}{:<15.4f}{:<15.4f}{:<15.4f}{:<15.4f}\".format(\"lambda\",ml_Exp[0][0],ml_Exp[1][0] ,ml_Exp[2][0] ,ml_Exp[3][0]))\n"
   ]
  },
  {
   "cell_type": "markdown",
   "id": "bdee3058",
   "metadata": {},
   "source": [
    "### Hyper-exponential distribution\n",
    "Find the parameters of a hyper-exponential distribution that better fit the provided data traces."
   ]
  },
  {
   "cell_type": "code",
   "execution_count": 8,
   "id": "d3f90d3d",
   "metadata": {
    "scrolled": true
   },
   "outputs": [
    {
     "name": "stdout",
     "output_type": "stream",
     "text": [
      "          Dataset 1      Dataset 2      Dataset 3      Dataset 4      \n",
      "\n",
      "lambda 1  0.13348830     0.1148         0.0487         0.1293         \n",
      "lambda 2  0.13348831     0.1858         0.2233         0.1293         \n",
      "p         0.5003         0.4746         0.2055         0.5020         \n"
     ]
    }
   ],
   "source": [
    "def ml_hyper_pars(start, values):\n",
    "    def hyper_eqs(par):\n",
    "        [l1, l2, p] = par\n",
    "        alt_values = [np.log(p*l1*np.exp(-l1*x)+(1-p)*l2*np.exp(-l2*x)) for x in values]\n",
    "        return -np.sum(alt_values)\n",
    "    sol = minimize(hyper_eqs, x0=start, bounds=[(0.01, np.Inf), (0.01, np.Inf), (0.01,1)])\n",
    "    return sol.x\n",
    "\n",
    "ml_Hyper = []\n",
    "for i in range(0,4):\n",
    "    ml_Hyper.append(ml_hyper_pars(mm_Hyper[i], data[i]))\n",
    "    \n",
    "print(\"{!s: <10}{!s:<15}{!s:<15}{!s:<15}{!s:<15}\\n\".format(\"\",\"Dataset 1\",\"Dataset 2\",\"Dataset 3\",\"Dataset 4\"))    \n",
    "print(\"{!s: <10}{:<15.8f}{:<15.4f}{:<15.4f}{:<15.4f}\".format(\"lambda 1\",ml_Hyper[0][0],ml_Hyper[1][0] ,ml_Hyper[2][0] ,ml_Hyper[3][0]))\n",
    "print(\"{!s: <10}{:<15.8f}{:<15.4f}{:<15.4f}{:<15.4f}\".format(\"lambda 2\",ml_Hyper[0][1],ml_Hyper[1][1] ,ml_Hyper[2][1] ,ml_Hyper[3][1]))\n",
    "print(\"{!s: <10}{:<15.4f}{:<15.4f}{:<15.4f}{:<15.4f}\".format(\"p\",ml_Hyper[0][2],ml_Hyper[1][2] ,ml_Hyper[2][2] ,ml_Hyper[3][2]))"
   ]
  },
  {
   "cell_type": "markdown",
   "id": "ce37011a",
   "metadata": {},
   "source": [
    "### Hypo-exponential distribution\n",
    "Find the parameters of a hypo-exponential distribution that better fit the provided data traces."
   ]
  },
  {
   "cell_type": "code",
   "execution_count": 9,
   "id": "9fa3fce5",
   "metadata": {},
   "outputs": [
    {
     "name": "stdout",
     "output_type": "stream",
     "text": [
      "          Dataset 1      Dataset 2      Dataset 3      Dataset 4      \n",
      "\n",
      "lambda 1  0.26697725     0.1436         0.1286         0.1874         \n",
      "lambda 2  0.26697431     11380425.6737  6834624.7702   0.4168         \n"
     ]
    }
   ],
   "source": [
    "def ml_hypo_pars(start, values):\n",
    "    def hypo_eqs(par):\n",
    "        [l1, l2] = par\n",
    "        if l1 == l2: return 100000\n",
    "        alt_values = [np.log(l1*l2/(l1-l2)*(np.exp(-l2*x)-np.exp(-l1*x))) for x in values]\n",
    "        return -np.sum(alt_values)\n",
    "    sol = minimize(hypo_eqs, x0=start, bounds=[(0.01, np.Inf), (0.01, np.Inf)])\n",
    "    return sol.x\n",
    "\n",
    "ml_Hypo = []\n",
    "for i in range(0,4):\n",
    "    ml_Hypo.append(ml_hypo_pars(mm_Hypo[i], data[i]))\n",
    "    \n",
    "print(\"{!s: <10}{!s:<15}{!s:<15}{!s:<15}{!s:<15}\\n\".format(\"\",\"Dataset 1\",\"Dataset 2\",\"Dataset 3\",\"Dataset 4\"))    \n",
    "print(\"{!s: <10}{:<15.8f}{:<15.4f}{:<15.4f}{:<15.4f}\".format(\"lambda 1\",ml_Hypo[0][0],ml_Hypo[1][0] ,ml_Hypo[2][0] ,ml_Hypo[3][0]))\n",
    "print(\"{!s: <10}{:<15.8f}{:<15.4f}{:<15.4f}{:<15.4f}\".format(\"lambda 2\",ml_Hypo[0][1],ml_Hypo[1][1] ,ml_Hypo[2][1] ,ml_Hypo[3][1]))"
   ]
  },
  {
   "cell_type": "markdown",
   "id": "59f62ad4",
   "metadata": {},
   "source": [
    "## Plots\n",
    "To visually compare how well the distributions are fit to each datatrace, we plot the former and the latter.\n",
    "Since the visualization would have been impossible with all the plots crammed in a single graph, we decided to split them on 4 different plots for each dataset."
   ]
  },
  {
   "cell_type": "code",
   "execution_count": 10,
   "id": "4dbf50c6",
   "metadata": {},
   "outputs": [],
   "source": [
    "def gen_plot_old(i):\n",
    "    \n",
    "    fig, ((hyper, hypo), (exp, unif)) = plt.subplots(2, 2)\n",
    "    fig.suptitle('Dataset '+str(i+1))\n",
    "\n",
    "    ydata = [*range(0,len(data[i]))]\n",
    "    ydata = np.divide(ydata,len(data[i]))\n",
    "    xdata = np.sort(data[i])\n",
    "\n",
    "    xlin  = np.linspace(start=0, stop=50)\n",
    "\n",
    "    # hyper-exponential\n",
    "    hyper.set_title(\"hyper-exponential\")\n",
    "    hyper.plot(xdata, ydata, label='data')\n",
    "        # moments\n",
    "    [l1, l2, p] = mm_Hyper[i]\n",
    "    y = 1 - (p*np.exp(-l1*xlin) + (1-p)*np.exp(-l2*xlin))\n",
    "    hyper.plot(xlin, y, label='moments' )\n",
    "        # mle\n",
    "    [l1, l2, p] = ml_Hyper[i]\n",
    "    y = 1 - (p*np.exp(-l1*xlin) + (1-p)*np.exp(-l2*xlin))\n",
    "    hyper.plot(xlin, y, label='maximum likelihood' )\n",
    "\n",
    "    hyper.legend();\n",
    "    \n",
    "    # hypo-exponential\n",
    "    hypo.set_title(\"hypo-exponential\")\n",
    "    hypo.plot(xdata, ydata, label='data')\n",
    "        # moments\n",
    "    [l1, l2] = mm_Hypo[i]\n",
    "    y = 1 - l2*np.exp(-l1*xlin)/(l2-l1) + l1*np.exp(-l2*xlin)/(l2-l1)\n",
    "    hypo.plot(xlin, y, label='moments' )\n",
    "        # mle\n",
    "    [l1, l2] = ml_Hypo[i]\n",
    "    y = 1 - l2*np.exp(-l1*xlin)/(l2-l1) + l1*np.exp(-l2*xlin)/(l2-l1)\n",
    "    hypo.plot(xlin, y, label='maximum likelihood' )\n",
    "\n",
    "    hypo.legend();\n",
    "\n",
    "    # exponential\n",
    "    exp.set_title(\"exponential\")\n",
    "    exp.plot(xdata, ydata, label='data')\n",
    "        # moments\n",
    "    l = mm_Exp[i]\n",
    "    y = 1 - np.exp(-l*xlin)\n",
    "    exp.plot(xlin, y, label='moments')\n",
    "        # mle\n",
    "    [l] = ml_Exp[i]\n",
    "    y = 1 - np.exp(-l*xlin)\n",
    "    exp.plot(xlin, y, label='maximum likelihood')\n",
    "    \n",
    "    exp.legend()\n",
    "\n",
    "    # uniform\n",
    "\n",
    "    unif.set_title(\"uniform\")\n",
    "        # data\n",
    "    unif.plot(xdata, ydata, label='data')\n",
    "        # moments\n",
    "    [a, b] = mm_Unif[i]\n",
    "    # y = (xlin-a)/(b-a)\n",
    "    y = []\n",
    "    for x in xlin:\n",
    "        if x<a:\n",
    "            y.append(0)\n",
    "        elif x>b:\n",
    "            y.append(1)\n",
    "        else:\n",
    "            y.append((x-a)/(b-a))\n",
    "    unif.plot(xlin, y, label='moments')\n",
    "\n",
    "    unif.legend()"
   ]
  },
  {
   "cell_type": "code",
   "execution_count": 11,
   "id": "34c8961b",
   "metadata": {},
   "outputs": [],
   "source": [
    "def gen_plot(i):\n",
    "    \n",
    "    fig, (mle,moments) = plt.subplots(1, 2)\n",
    "    fig.suptitle('Dataset '+str(i+1))\n",
    "\n",
    "    ydata = [*range(0,len(data[i]))]\n",
    "    ydata = np.divide(ydata,len(data[i]))\n",
    "    xdata = np.sort(data[i])\n",
    "\n",
    "    xlin  = np.linspace(start=0, stop=50 if max(data[i])<50 else 190)\n",
    "\n",
    "    \n",
    "    moments.set_title(\"method of moments\")\n",
    "    moments.plot(xdata, ydata, label='data')\n",
    "    #hyper\n",
    "    [l1, l2, p] = mm_Hyper[i]\n",
    "    y = 1 - (p*np.exp(-l1*xlin) + (1-p)*np.exp(-l2*xlin))\n",
    "    moments.plot(xlin, y, label='hyper-exponential' )\n",
    "    #hypo\n",
    "    [l1, l2] = mm_Hypo[i]\n",
    "    y = 1 - l2*np.exp(-l1*xlin)/(l2-l1) + l1*np.exp(-l2*xlin)/(l2-l1)\n",
    "    moments.plot(xlin, y, label='hypo-exponential' )\n",
    "    #exponential\n",
    "    l = mm_Exp[i]\n",
    "    y = 1 - np.exp(-l*xlin)\n",
    "    moments.plot(xlin, y, label='exponential')\n",
    "    #uniform\n",
    "    [a, b] = mm_Unif[i]\n",
    "    y = []\n",
    "    for x in xlin:\n",
    "        if x<a:\n",
    "            y.append(0)\n",
    "        elif x>b:\n",
    "            y.append(1)\n",
    "        else:\n",
    "            y.append((x-a)/(b-a))\n",
    "    moments.plot(xlin, y, label='uniform')\n",
    "    moments.legend()\n",
    "    \n",
    "    \n",
    "    mle.set_title(\"maximum likelihood method\")\n",
    "    mle.plot(xdata, ydata, label='data')\n",
    "    #hyper\n",
    "    [l1, l2, p] = ml_Hyper[i]\n",
    "    print(l1, l2, p)\n",
    "    y = 1 - (p*np.exp(-l1*xlin) + (1-p)*np.exp(-l2*xlin))\n",
    "    mle.plot(xlin, y, label='hyper-exponential' )\n",
    "    #hypo\n",
    "    [l1, l2] = ml_Hypo[i]\n",
    "    print(l1, l2)\n",
    "    y = 1 - l2*np.exp(-l1*xlin)/(l2-l1) + l1*np.exp(-l2*xlin)/(l2-l1)\n",
    "    mle.plot(xlin, y, label='hypo-exponential' )\n",
    "    #exponential\n",
    "    [l] = ml_Exp[i]\n",
    "    print(l)\n",
    "    y = 1 - np.exp(-l*xlin)\n",
    "    mle.plot(xlin, y, label='exponential')\n",
    "    mle.legend()"
   ]
  },
  {
   "cell_type": "markdown",
   "id": "19117ff0",
   "metadata": {},
   "source": [
    "### Dataset 1"
   ]
  },
  {
   "cell_type": "code",
   "execution_count": 1,
   "id": "68906844",
   "metadata": {
    "scrolled": true
   },
   "outputs": [
    {
     "ename": "NameError",
     "evalue": "name 'gen_plot' is not defined",
     "output_type": "error",
     "traceback": [
      "\u001b[0;31m---------------------------------------------------------------------------\u001b[0m",
      "\u001b[0;31mNameError\u001b[0m                                 Traceback (most recent call last)",
      "\u001b[0;32m/tmp/ipykernel_5278/3350749113.py\u001b[0m in \u001b[0;36m<module>\u001b[0;34m\u001b[0m\n\u001b[0;32m----> 1\u001b[0;31m \u001b[0mgen_plot\u001b[0m\u001b[0;34m(\u001b[0m\u001b[0;36m0\u001b[0m\u001b[0;34m)\u001b[0m\u001b[0;34m\u001b[0m\u001b[0;34m\u001b[0m\u001b[0m\n\u001b[0m",
      "\u001b[0;31mNameError\u001b[0m: name 'gen_plot' is not defined"
     ]
    }
   ],
   "source": [
    "gen_plot(0)"
   ]
  },
  {
   "cell_type": "markdown",
   "id": "1c82f8e9",
   "metadata": {},
   "source": [
    "### Dataset 2"
   ]
  },
  {
   "cell_type": "code",
   "execution_count": 13,
   "id": "229a8715",
   "metadata": {
    "scrolled": true
   },
   "outputs": [
    {
     "name": "stdout",
     "output_type": "stream",
     "text": [
      "0.11475223610445998 0.18584158083844668 0.47459878698011204\n",
      "0.14361621160965846 11380425.673679812\n",
      "0.14361619701987782\n"
     ]
    }
   ],
   "source": [
    "gen_plot(1)"
   ]
  },
  {
   "cell_type": "markdown",
   "id": "36430868",
   "metadata": {},
   "source": [
    "### Dataset 3"
   ]
  },
  {
   "cell_type": "code",
   "execution_count": 14,
   "id": "d2c3f620",
   "metadata": {},
   "outputs": [
    {
     "name": "stdout",
     "output_type": "stream",
     "text": [
      "0.048727654171645055 0.2232534999822762 0.20553700350322907\n",
      "0.1285900970884794 6834624.770236233\n",
      "0.12859009951514075\n"
     ]
    }
   ],
   "source": [
    "gen_plot(2)"
   ]
  },
  {
   "cell_type": "markdown",
   "id": "b52bebc0",
   "metadata": {},
   "source": [
    "### Dataset 4"
   ]
  },
  {
   "cell_type": "code",
   "execution_count": 15,
   "id": "f4e28e02",
   "metadata": {},
   "outputs": [
    {
     "name": "stdout",
     "output_type": "stream",
     "text": [
      "0.12928567330230845 0.1292856708056496 0.5020478914085292\n",
      "0.18742270957801918 0.4167922325450846\n",
      "0.12928567468731378\n"
     ]
    }
   ],
   "source": [
    "gen_plot(3)"
   ]
  },
  {
   "cell_type": "markdown",
   "id": "6c8d714e",
   "metadata": {},
   "source": [
    "## Notes\n",
    "As we can notice, the exponential computed with the method of moments and the exponential computed with the maximum likelihood method are the same on every dataset because the method of moments always reaches the best value for the parameter in that case."
   ]
  }
 ],
 "metadata": {
  "kernelspec": {
   "display_name": "Python 3 (ipykernel)",
   "language": "python",
   "name": "python3"
  },
  "language_info": {
   "codemirror_mode": {
    "name": "ipython",
    "version": 3
   },
   "file_extension": ".py",
   "mimetype": "text/x-python",
   "name": "python",
   "nbconvert_exporter": "python",
   "pygments_lexer": "ipython3",
   "version": "3.9.2"
  }
 },
 "nbformat": 4,
 "nbformat_minor": 5
}
