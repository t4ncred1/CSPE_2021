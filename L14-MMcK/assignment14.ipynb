{
 "cells": [
  {
   "cell_type": "markdown",
   "id": "b3dfccc0",
   "metadata": {},
   "source": [
    "# Assignment 14\n",
    "This assignment is divided in two parts in which we are asked to model different queues.\n",
    "\n",
    "## Part 1 - Performance indices of an M/M/1/6 queue\n",
    "\n",
    "Consider an M/M/1/6 system, with arrival rate $\\lambda$ = 0.9 $\\frac{j}{s}$, and average service D = 1 s."
   ]
  },
  {
   "cell_type": "code",
   "execution_count": 1,
   "id": "36bea4cc",
   "metadata": {},
   "outputs": [],
   "source": [
    "l_mm16 = 0.9\n",
    "D_mm16 = 1\n",
    "mu_mm16 = 1/D_mm16\n",
    "rho_mm16 = l_mm16/mu_mm16"
   ]
  },
  {
   "cell_type": "markdown",
   "id": "8e3a6834",
   "metadata": {},
   "source": [
    "### Requests\n",
    "- Compute the average utilization\n",
    "- Compute the probability of having 4 jobs in the system\n",
    "- Compute the average number of jobs in the system\n",
    "- Compute the throughput and the drop rate\n",
    "- Compute the average response time and the average time spent in queue\n",
    "- Compare the previous results with the ones of an M/M/1 system"
   ]
  },
  {
   "cell_type": "markdown",
   "id": "00fcb2f5",
   "metadata": {},
   "source": [
    "### Average utilization\n",
    "To compute the average utilization, we can use the common formula $$U = \\sum_{n=1}^{n=6}\\pi_{n} = 1-\\pi_{0}$$\n",
    "In this case, the formula solves to be $$U = \\frac{\\rho-\\rho^{k+1}}{1-\\rho^{k+1}}$$\n",
    "\n",
    "The classical formulation of the Utilization $$U = \\rho$$ \n",
    "\n",
    "is not valid anymore due to the throughput not being $\\lambda$ anymore."
   ]
  },
  {
   "cell_type": "code",
   "execution_count": 2,
   "id": "0777cf1a",
   "metadata": {},
   "outputs": [
    {
     "name": "stdout",
     "output_type": "stream",
     "text": [
      "The average utilization of the system is 0.8083\n"
     ]
    }
   ],
   "source": [
    "U_mm16 = (rho_mm16 - rho_mm16**(7))/(1-rho_mm16**7)\n",
    "print(\"The average utilization of the system is {:.4f}\".format(U_mm16))"
   ]
  },
  {
   "cell_type": "markdown",
   "id": "629d13bb",
   "metadata": {},
   "source": [
    "### Probability of having 4 jobs in the system\n",
    "The probability of having a certain number of jobs in the system can be computed through the formula\n",
    "$$\\begin{equation}\n",
    "    \\pi_{n} =\n",
    "    \\begin{cases}\n",
    "        \\pi_{0}\\cdot(\\frac{\\lambda}{\\mu})^{n} &n \\leq k\\\\\n",
    "        0 & n>k\n",
    "    \\end{cases}\n",
    "\\end{equation}$$\n",
    "\n",
    "where $$\\pi_{0} = \\frac{1-\\rho}{1-\\rho^{k+1}}$$"
   ]
  },
  {
   "cell_type": "code",
   "execution_count": 3,
   "id": "f79efae2",
   "metadata": {},
   "outputs": [
    {
     "name": "stdout",
     "output_type": "stream",
     "text": [
      "The probability of having 4 jobs in the system is 12.576118%\n"
     ]
    }
   ],
   "source": [
    "def prob_mm16(n):\n",
    "    if n == 0:\n",
    "        p = (1-rho_mm16)/(1-rho_mm16**7)\n",
    "    elif n<=6:\n",
    "        p = prob_mm16(0)*(rho_mm16**n)\n",
    "    else: p = 0\n",
    "    return p\n",
    "\n",
    "print(\"The probability of having 4 jobs in the system is {:%}\".format(prob_mm16(4)))"
   ]
  },
  {
   "cell_type": "markdown",
   "id": "00e6961f",
   "metadata": {},
   "source": [
    "### Average number of jobs in the system\n",
    "The average number of jobs in the system can be computed starting from the usual formulation $$N = \\sum_{n=0}^{K}n\\cdot\\pi_{n}$$\n",
    "\n",
    "In this case, the computation leads to the formula $$N = \\frac{\\rho}{1-\\rho}-\\frac{(K+1)\\rho^{K+1}}{1-\\rho^{K+1}}$$"
   ]
  },
  {
   "cell_type": "code",
   "execution_count": 4,
   "id": "94b1a276",
   "metadata": {},
   "outputs": [
    {
     "name": "stdout",
     "output_type": "stream",
     "text": [
      "The average number of jobs in the system is 2.5824\n"
     ]
    }
   ],
   "source": [
    "N_mm16 = rho_mm16/(1-rho_mm16) - (7*rho_mm16**7)/(1-rho_mm16**7)\n",
    "print(\"The average number of jobs in the system is {:.4f}\".format(N_mm16))"
   ]
  },
  {
   "cell_type": "markdown",
   "id": "0e073c8f",
   "metadata": {},
   "source": [
    "### Throughput and drop rate\n",
    "To compute the drop rate $D_{r}$ and, therefore, the throughput, we first need to compute the blocking probability $p_{B}$ (or the loss probability $p_{L}$) $$p_{B}=\\pi_{K}=\\frac{\\rho^{K}-\\rho^{K+1}}{1-\\rho^{K+1}}$$\n",
    "The drop rate will then be $$D_{r} = \\lambda\\cdot \\pi_{K}$$ and the throughput will be $$X = \\lambda - D_{r}$$"
   ]
  },
  {
   "cell_type": "code",
   "execution_count": 5,
   "id": "aa0bdfe5",
   "metadata": {},
   "outputs": [
    {
     "name": "stdout",
     "output_type": "stream",
     "text": [
      "The drop rate of the system is 0.0917\n",
      "The average throughput of the system is 0.8083\n"
     ]
    }
   ],
   "source": [
    "pb_mm16 = (rho_mm16**6 - rho_mm16**7)/(1-rho_mm16**7) # I could also use prob_mm16(6)\n",
    "drop_mm16 = pb_mm16*l_mm16\n",
    "X_mm16 = l_mm16 - drop_mm16\n",
    "\n",
    "print(\"The drop rate of the system is {:.4f}\".format(drop_mm16))\n",
    "print(\"The average throughput of the system is {:.4f}\".format(X_mm16))\n",
    "#NOTE: the throughput and the utilization are slightly different."
   ]
  },
  {
   "cell_type": "markdown",
   "id": "c9a4526b",
   "metadata": {},
   "source": [
    "### Response time and average time spent in queue of the system\n",
    "The response time of the system can be computed by applying little's law $$R = \\frac{N}{\\lambda\\cdot(1-\\pi_{K})}$$\n",
    "\n",
    "The average time spent in queue is, as usual $$\\Theta = R - D$$"
   ]
  },
  {
   "cell_type": "code",
   "execution_count": 6,
   "id": "1a41d7a2",
   "metadata": {
    "scrolled": true
   },
   "outputs": [
    {
     "name": "stdout",
     "output_type": "stream",
     "text": [
      "The average response time of the system is 3.1948\n",
      "The average queue lenght of the system is 2.1948\n"
     ]
    }
   ],
   "source": [
    "R_mm16 = N_mm16/(l_mm16*(1-pb_mm16))\n",
    "theta_mm16 = R_mm16 - D_mm16\n",
    "print(\"The average response time of the system is {:.4f}\".format(R_mm16))\n",
    "print(\"The average queue lenght of the system is {:.4f}\".format(theta_mm16))"
   ]
  },
  {
   "cell_type": "markdown",
   "id": "00568a5d",
   "metadata": {},
   "source": [
    "### Confrontation with an M/M/1 queue\n",
    "We need to compare the results obtained with the ones from an M/M/1 system."
   ]
  },
  {
   "cell_type": "markdown",
   "id": "7a93171d",
   "metadata": {},
   "source": [
    "#### Utilization"
   ]
  },
  {
   "cell_type": "code",
   "execution_count": 7,
   "id": "392e6cbb",
   "metadata": {},
   "outputs": [
    {
     "name": "stdout",
     "output_type": "stream",
     "text": [
      "             M/M/1/6   M/M/1     \n",
      "Utilization  0.808     0.900     \n"
     ]
    }
   ],
   "source": [
    "rho_mm1 = l_mm16*D_mm16\n",
    "U_mm1 = rho_mm1\n",
    "\n",
    "print(\"{!s:<13}{!s:<10}{!s:<10}\".format(\"\",\"M/M/1/6\",\"M/M/1\"))\n",
    "print(\"{!s:<13}{:<10.3f}{:<10.3f}\".format(\"Utilization\", U_mm16, U_mm1))"
   ]
  },
  {
   "cell_type": "markdown",
   "id": "6744f718",
   "metadata": {},
   "source": [
    "#### Probability of having 4 jobs in the system"
   ]
  },
  {
   "cell_type": "code",
   "execution_count": 8,
   "id": "bf382a43",
   "metadata": {},
   "outputs": [
    {
     "name": "stdout",
     "output_type": "stream",
     "text": [
      "        M/M/1/6   M/M/1     \n",
      "P(n=4)  12.58%    6.56%     \n"
     ]
    }
   ],
   "source": [
    "def prob_mm1(n):\n",
    "    return (1-rho_mm1)*(rho_mm1**n)\n",
    "\n",
    "print(\"{!s:<8}{!s:<10}{!s:<10}\".format(\"\",\"M/M/1/6\",\"M/M/1\"))\n",
    "print(\"{!s:<8}{:<10.2%}{:<10.2%}\".format(\"P(n=4)\", prob_mm16(4), prob_mm1(4)))"
   ]
  },
  {
   "cell_type": "markdown",
   "id": "69968cff",
   "metadata": {},
   "source": [
    "#### Average number of jobs in the system"
   ]
  },
  {
   "cell_type": "code",
   "execution_count": 9,
   "id": "9d15ccbd",
   "metadata": {},
   "outputs": [
    {
     "name": "stdout",
     "output_type": "stream",
     "text": [
      "        M/M/1/6   M/M/1     \n",
      "N       2.582     9.000     \n"
     ]
    }
   ],
   "source": [
    "N_mm1 = rho_mm1/(1-rho_mm1)\n",
    "\n",
    "print(\"{!s:<8}{!s:<10}{!s:<10}\".format(\"\",\"M/M/1/6\",\"M/M/1\"))\n",
    "print(\"{!s:<8}{:<10.3f}{:<10.3f}\".format(\"N\", N_mm16, N_mm1))"
   ]
  },
  {
   "cell_type": "markdown",
   "id": "007b936a",
   "metadata": {},
   "source": [
    "#### Response time"
   ]
  },
  {
   "cell_type": "code",
   "execution_count": 10,
   "id": "5b21f2e4",
   "metadata": {},
   "outputs": [
    {
     "name": "stdout",
     "output_type": "stream",
     "text": [
      "        M/M/1/6   M/M/1     \n",
      "R       3.195     10.000    \n",
      "Theta   2.195     9.000     \n"
     ]
    }
   ],
   "source": [
    "R_mm1 = D_mm16/(1-rho_mm1)\n",
    "theta_mm1 = R_mm1 - D_mm16\n",
    "\n",
    "print(\"{!s:<8}{!s:<10}{!s:<10}\".format(\"\",\"M/M/1/6\",\"M/M/1\"))\n",
    "print(\"{!s:<8}{:<10.3f}{:<10.3f}\".format(\"R\", R_mm16, R_mm1))\n",
    "print(\"{!s:<8}{:<10.3f}{:<10.3f}\".format(\"Theta\", theta_mm16, theta_mm1))\n"
   ]
  },
  {
   "cell_type": "markdown",
   "id": "b1b6fcf1",
   "metadata": {},
   "source": [
    "#### Throughput"
   ]
  },
  {
   "cell_type": "code",
   "execution_count": 11,
   "id": "1c2e7a34",
   "metadata": {},
   "outputs": [
    {
     "name": "stdout",
     "output_type": "stream",
     "text": [
      "        M/M/1/6   M/M/1     \n",
      "X       0.808     0.900     \n"
     ]
    }
   ],
   "source": [
    "X_mm1 = N_mm1/R_mm1\n",
    "\n",
    "print(\"{!s:<8}{!s:<10}{!s:<10}\".format(\"\",\"M/M/1/6\",\"M/M/1\"))\n",
    "print(\"{!s:<8}{:<10.3f}{:<10.3f}\".format(\"X\", X_mm16, X_mm1))"
   ]
  },
  {
   "cell_type": "markdown",
   "id": "36ec635e",
   "metadata": {},
   "source": [
    "## Part 2 - Performance indices of an M/M/2/6 queue\n",
    "Consider an M/M/2/6 system with arrival rate $\\lambda$ = 1.8 $\\frac{job}{sec}$, and average service D = 1 s."
   ]
  },
  {
   "cell_type": "code",
   "execution_count": 12,
   "id": "f9fbd608",
   "metadata": {},
   "outputs": [],
   "source": [
    "l_mm26 = 1.8\n",
    "D_mm26 = 1\n",
    "mu_mm26 = 1/D_mm26\n",
    "rho_mm26 = l_mm26*D_mm26/2"
   ]
  },
  {
   "cell_type": "markdown",
   "id": "f30c4af3",
   "metadata": {},
   "source": [
    "### Requests\n",
    "- Compute the average utilization\n",
    "- Compute the probability of having 4 jobs in the system\n",
    "- Compute the average number of jobs in the system\n",
    "- Compute the throughput and the drop rate\n",
    "- Compute the average response time and the average time spent in queue\n",
    "- Compare the previous results with the ones of an M/M/1 system"
   ]
  },
  {
   "cell_type": "markdown",
   "id": "31009e64",
   "metadata": {},
   "source": [
    "### Probability of having 4 jobs in the system\n",
    "The probability of having a certain number of jobs in the system can be computed through the formula\n",
    "$$\\begin{equation}\n",
    "    \\pi_{n} =\n",
    "    \\begin{cases}\n",
    "        \\frac{\\pi_{0}}{n!}\\cdot\\left(\\frac{\\lambda}{\\mu}\\right)^{n} &n \\leq c\\\\\n",
    "        \\frac{\\pi_{0}}{c!\\cdot c^{n-c}}\\cdot\\left(\\frac{\\lambda}{\\mu}\\right)^{n} &c< n \\leq k\n",
    "    \\end{cases}\n",
    "\\end{equation}$$\n",
    "\n",
    "where $$\\pi_{0} = \\left[\\frac{(c\\rho)^{c}}{c!} \\frac{1-\\rho^{k-c+1}}{1-\\rho}+\\sum^{c-1}_{j=0}\\frac{(c\\rho)^{j}}{j!}\\right]^{-1}$$"
   ]
  },
  {
   "cell_type": "code",
   "execution_count": 13,
   "id": "64316280",
   "metadata": {},
   "outputs": [
    {
     "name": "stdout",
     "output_type": "stream",
     "text": [
      "The probability of having 4 jobs in the system is 13.909173%\n"
     ]
    }
   ],
   "source": [
    "import math as m\n",
    "def prob_mm26(n):\n",
    "    if n == 0:\n",
    "        p = (4*rho_mm26**2/2 * (1-rho_mm26**5)/(1-rho_mm26) + 1 + 2*rho_mm26)**(-1)\n",
    "    elif n<=2:\n",
    "        p = prob_mm26(0)/m.factorial(n)*(l_mm26/mu_mm26)**n\n",
    "    elif n<=6:\n",
    "        p = prob_mm26(0)/(2*2**(n-2))*(l_mm26/mu_mm26)**n\n",
    "    else: p = 0\n",
    "    return p\n",
    "\n",
    "print(\"The probability of having 4 jobs in the system is {:%}\".format(prob_mm26(4)))"
   ]
  },
  {
   "cell_type": "markdown",
   "id": "7876f1bb",
   "metadata": {},
   "source": [
    "### Average Utilization\n",
    "The utilization of the system can be computed by summing up each probability of having a certain number of jobs in the system, each multiplied by the number of cores the system would use\n",
    "$$ U = \\sum^{c}_{i=1}i\\cdot\\pi_{i} + c\\cdot\\sum^{k}_{i=c+1}\\pi_{i}$$\n",
    "\n",
    "The average utilization will be this value devided by the number of cores."
   ]
  },
  {
   "cell_type": "code",
   "execution_count": 14,
   "id": "c91b07c2",
   "metadata": {},
   "outputs": [
    {
     "name": "stdout",
     "output_type": "stream",
     "text": [
      "The utilization of the system will be 1.5972\n",
      "The average utilization of the system will be 0.7986\n"
     ]
    }
   ],
   "source": [
    "U_mm26 = prob_mm26(1)+prob_mm26(2)*2+2*(prob_mm26(3)+prob_mm26(4)+prob_mm26(5)+prob_mm26(6))\n",
    "print(\"The utilization of the system will be {:.4f}\".format(U_mm26))\n",
    "print(\"The average utilization of the system will be {:.4f}\".format(U_mm26/2))"
   ]
  },
  {
   "attachments": {
    "mm26_jmch.png": {
     "image/png": "[encoded data removed]"
    }
   },
   "cell_type": "markdown",
   "id": "2245afbd",
   "metadata": {},
   "source": [
    "*Since the Utilization I obtain is different than the one obtained by the professor, I tried to simulate the queue in **JMCH**.*\n",
    "\n",
    "*Below is a screenshot taken from the tool which seems confirm my results (look at the utilization).*\n",
    "![mm26_jmch.png](attachment:mm26_jmch.png)"
   ]
  },
  {
   "cell_type": "markdown",
   "id": "2ddd69ac",
   "metadata": {},
   "source": [
    "### Average number of jobs in the system\n",
    "The average number of jobs in the system can be computed starting from the usual formulation $$N = \\sum_{n=0}^{K}n\\cdot\\pi_{n}$$"
   ]
  },
  {
   "cell_type": "code",
   "execution_count": 15,
   "id": "2f19e18a",
   "metadata": {
    "scrolled": true
   },
   "outputs": [
    {
     "name": "stdout",
     "output_type": "stream",
     "text": [
      "The average number of jobs in the system is 2.8561\n"
     ]
    }
   ],
   "source": [
    "N_mm26 = prob_mm26(1)+2*prob_mm26(2)+3*prob_mm26(3)+4*prob_mm26(4)+5*prob_mm26(5)+6*prob_mm26(6)\n",
    "print(\"The average number of jobs in the system is {:.4f}\".format(N_mm26))"
   ]
  },
  {
   "cell_type": "markdown",
   "id": "49b3ef65",
   "metadata": {},
   "source": [
    "### Throughput and drop rate\n",
    "To compute the drop rate $D_{r}$ and, therefore, the throughput, we first need to compute the blocking probability $p_{B}$ (or the loss probability $p_{L}$) \n",
    "\n",
    "$$p_{B}=\\pi_{K}$$\n",
    "The drop rate will then be $$D_{r} = \\lambda\\cdot \\pi_{K}$$ and the throughput will be $$X = \\lambda - D_{r}$$"
   ]
  },
  {
   "cell_type": "code",
   "execution_count": 16,
   "id": "def7a5e3",
   "metadata": {},
   "outputs": [
    {
     "name": "stdout",
     "output_type": "stream",
     "text": [
      "The drop rate of the system is 0.2028\n",
      "The average throughput of the system is 1.5972\n"
     ]
    }
   ],
   "source": [
    "pb_mm26 = prob_mm26(6)\n",
    "drop_mm26 = pb_mm26*l_mm26\n",
    "X_mm26 = l_mm26 - drop_mm26\n",
    "\n",
    "print(\"The drop rate of the system is {:.4f}\".format(drop_mm26))\n",
    "print(\"The average throughput of the system is {:.4f}\".format(X_mm26))\n",
    "#NOTE: the throughput and the utilization are slightly different."
   ]
  },
  {
   "cell_type": "markdown",
   "id": "c7127e41",
   "metadata": {},
   "source": [
    "### Response time and average time spent in queue of the system\n",
    "The response time of the system can be computed by applying little's law $$R = \\frac{N}{\\lambda\\cdot(1-\\pi_{K})}$$\n",
    "\n",
    "The average time spent in queue is, as usual $$\\Theta = R - D$$"
   ]
  },
  {
   "cell_type": "code",
   "execution_count": 17,
   "id": "4051f25e",
   "metadata": {
    "scrolled": true
   },
   "outputs": [
    {
     "name": "stdout",
     "output_type": "stream",
     "text": [
      "The average response time of the system is 1.7882\n",
      "The average queue length of the system is 0.7882\n"
     ]
    }
   ],
   "source": [
    "R_mm26 = N_mm26/(l_mm26*(1-prob_mm26(6)))\n",
    "theta_mm26 = R_mm26 - D_mm26\n",
    "print(\"The average response time of the system is {:.4f}\".format(R_mm26))\n",
    "print(\"The average queue length of the system is {:.4f}\".format(theta_mm26))"
   ]
  }
 ],
 "metadata": {
  "kernelspec": {
   "display_name": "Python 3 (ipykernel)",
   "language": "python",
   "name": "python3"
  },
  "language_info": {
   "codemirror_mode": {
    "name": "ipython",
    "version": 3
   },
   "file_extension": ".py",
   "mimetype": "text/x-python",
   "name": "python",
   "nbconvert_exporter": "python",
   "pygments_lexer": "ipython3",
   "version": "3.9.7"
  }
 },
 "nbformat": 4,
 "nbformat_minor": 5
}
