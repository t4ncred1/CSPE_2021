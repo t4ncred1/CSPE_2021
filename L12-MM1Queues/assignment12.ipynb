{
 "cells": [
  {
   "cell_type": "markdown",
   "id": "8690f406",
   "metadata": {},
   "source": [
    "# Assignment 12\n",
    "Consider a server that executes jobs arriving according to a Poisson process of rate $\\lambda$ = 10 $\\frac{job}{s}$, and serves them with an average service time $D$ = 85 ms."
   ]
  },
  {
   "cell_type": "code",
   "execution_count": 1,
   "id": "4ff5cdf8",
   "metadata": {},
   "outputs": [],
   "source": [
    "l = 10\n",
    "D = 85 * 10**(-3)\n",
    "mu = 1/D"
   ]
  },
  {
   "cell_type": "markdown",
   "id": "aab563ca",
   "metadata": {},
   "source": [
    "## Requests\n",
    "Compute:\n",
    "- The utilization of the system\n",
    "- The probability of having exactly one job in the system\n",
    "- The probability of having more than 5 jobs in the system\n",
    "- The average queue lenght (jobs not in service)\n",
    "- The average response time\n",
    "- The probability that the response time is greater than 0.5s\n",
    "- The 90 percentile of the response time distribution"
   ]
  },
  {
   "cell_type": "markdown",
   "id": "9aef66b0",
   "metadata": {},
   "source": [
    "## Utilization\n",
    "\n",
    "Let's first define the traffic intensity of an M/M/1 queue as $$\\rho = \\frac{\\lambda}{\\mu}$$"
   ]
  },
  {
   "cell_type": "code",
   "execution_count": 2,
   "id": "2bd737ce",
   "metadata": {},
   "outputs": [],
   "source": [
    "rho = l/mu"
   ]
  },
  {
   "cell_type": "markdown",
   "id": "d05c2095",
   "metadata": {},
   "source": [
    "The utilization of an M/M/1 queue is then $$U = \\rho$$"
   ]
  },
  {
   "cell_type": "code",
   "execution_count": 3,
   "id": "2acf3d6a",
   "metadata": {},
   "outputs": [
    {
     "name": "stdout",
     "output_type": "stream",
     "text": [
      "The utilization of the system is 0.85\n"
     ]
    }
   ],
   "source": [
    "U = rho\n",
    "print(\"The utilization of the system is {:.2f}\".format(U))"
   ]
  },
  {
   "cell_type": "markdown",
   "id": "3d61093c",
   "metadata": {},
   "source": [
    "## Number of jobs in the system\n",
    "\n",
    "The formula to compute the probability of **having exactly *n* jobs** in an M/M/1 queue is \n",
    "\n",
    "$$\\pi_{n} = (1-\\rho)*\\rho^{n}$$ "
   ]
  },
  {
   "cell_type": "code",
   "execution_count": 4,
   "id": "220fef6b",
   "metadata": {},
   "outputs": [
    {
     "name": "stdout",
     "output_type": "stream",
     "text": [
      "The probability of having exactly one job in the system is 0.1275\n"
     ]
    }
   ],
   "source": [
    "def jobs_eq_prob(n):\n",
    "    return (1-rho)*(rho**n)\n",
    "\n",
    "print(\"The probability of having exactly one job in the system is {:.4f}\".format(jobs_eq_prob(1)))"
   ]
  },
  {
   "cell_type": "markdown",
   "id": "c3bdadb5",
   "metadata": {},
   "source": [
    "As you can see, this probability follows a geometric distribution $$X_{Geom<1-\\rho>}$$ with $$F_{Geom<1-\\rho>}(k) = 1-\\rho^{k+1}$$"
   ]
  },
  {
   "cell_type": "markdown",
   "id": "f30450c7",
   "metadata": {},
   "source": [
    "The formula for the probability of **having more than _n_ jobs** in an M/M/1 queue is then \n",
    "\n",
    "$$P(N_{<\\rho>} > n) = 1 - F_{Geom<1-\\rho>}(n) = \\rho^{n+1}$$"
   ]
  },
  {
   "cell_type": "code",
   "execution_count": 5,
   "id": "f29f7ba1",
   "metadata": {},
   "outputs": [
    {
     "name": "stdout",
     "output_type": "stream",
     "text": [
      "The probability of having more than 5 jobs in the system is 0.377150\n"
     ]
    }
   ],
   "source": [
    "def jobs_gt_prob(n):\n",
    "    return rho**(n+1)\n",
    "\n",
    "print(\"The probability of having more than 5 jobs in the system is {:4f}\".format(jobs_gt_prob(5)))"
   ]
  },
  {
   "cell_type": "markdown",
   "id": "cc5f6502",
   "metadata": {},
   "source": [
    "The **average number of jobs in the system** is equal to the mean of the probabilities to have a certain number of jobs in the system (or the mean of a geometrical distribution with parameter 1-$\\rho$)\n",
    "\n",
    "$$N = E[X_{Geom<1-\\rho>}] = \\frac{\\rho}{1-\\rho}$$"
   ]
  },
  {
   "cell_type": "code",
   "execution_count": 6,
   "id": "63210731",
   "metadata": {},
   "outputs": [
    {
     "name": "stdout",
     "output_type": "stream",
     "text": [
      "The average number of jobs in the system is 5.6667\n"
     ]
    }
   ],
   "source": [
    "N = rho/(1-rho)\n",
    "print(\"The average number of jobs in the system is {:.4f}\".format(N))"
   ]
  },
  {
   "cell_type": "markdown",
   "id": "152bba94",
   "metadata": {},
   "source": [
    "The **average queue length** can then be computed considering an average of $U$ jobs are not in queue at each time.\n",
    "\n",
    "$$N_{q} = N - U$$"
   ]
  },
  {
   "cell_type": "code",
   "execution_count": 7,
   "id": "b6c5c33d",
   "metadata": {},
   "outputs": [
    {
     "name": "stdout",
     "output_type": "stream",
     "text": [
      "The average number of jobs in queue is 4.8167\n"
     ]
    }
   ],
   "source": [
    "N_q = N - U\n",
    "print(\"The average number of jobs in queue is {:.4f}\".format(N_q))"
   ]
  },
  {
   "cell_type": "markdown",
   "id": "4f5fb948",
   "metadata": {},
   "source": [
    "## Response time\n",
    "\n",
    "The **average response time** can be computed using Little's law starting from:\n",
    "- The average number of jobs in the system $N = \\frac{\\rho}{1-\\rho}$\n",
    "- The througput X, that is equal to $\\lambda$ in a stable system.\n",
    "\n",
    "With these considerations we get (through Little's law): $$R = \\frac{1}{\\mu-\\lambda}$$"
   ]
  },
  {
   "cell_type": "code",
   "execution_count": 8,
   "id": "570171cb",
   "metadata": {},
   "outputs": [
    {
     "name": "stdout",
     "output_type": "stream",
     "text": [
      "The average response time of the system is 0.5667\n"
     ]
    }
   ],
   "source": [
    "R = 1/(mu - l)\n",
    "print(\"The average response time of the system is {:.4f}\".format(R))"
   ]
  },
  {
   "cell_type": "markdown",
   "id": "baf98509",
   "metadata": {},
   "source": [
    "Since the probabilities of being in each state are geometrically distributed and the arrival/service rates are exponentially distributed, the distribution of the response time of an M/M/1 queue is\n",
    "\n",
    "$$ R_{<\\rho>}=X_{Exp<(1-\\rho)*\\mu>}=X_{Exp<\\mu-\\lambda>}$$"
   ]
  },
  {
   "cell_type": "markdown",
   "id": "148fde0c",
   "metadata": {},
   "source": [
    "The probability of the response time being **higher than a certain threshold** is then computed quite easily\n",
    "\n",
    "$$P(R_{<\\rho>} > t) = 1 - F_{Exp<\\mu-\\lambda>}(t) = e^{-t(\\mu-\\lambda)} = e^{-\\frac{t}{R}}$$"
   ]
  },
  {
   "cell_type": "code",
   "execution_count": 9,
   "id": "a9c90832",
   "metadata": {},
   "outputs": [
    {
     "name": "stdout",
     "output_type": "stream",
     "text": [
      "The probability of having a response time greater than 0.5 seconds is 41.38%\n"
     ]
    }
   ],
   "source": [
    "import numpy as np\n",
    "\n",
    "def r_gt_prob(t):\n",
    "    return(np.exp(-t/R))\n",
    "\n",
    "print(\"The probability of having a response time greater than 0.5 seconds is {:.2%}\".format(r_gt_prob(0.5)))"
   ]
  },
  {
   "cell_type": "code",
   "execution_count": 11,
   "id": "374c0e1d",
   "metadata": {},
   "outputs": [
    {
     "name": "stdout",
     "output_type": "stream",
     "text": [
      "0.14191498382089446\n"
     ]
    }
   ],
   "source": [
    "print(r_gt_prob(1) - r_gt_prob(2))"
   ]
  },
  {
   "cell_type": "markdown",
   "id": "c55bfa27",
   "metadata": {},
   "source": [
    "The **percentiles** for this distribution are computed as\n",
    "\n",
    "$$\\theta_{R_{<\\rho>}}(k) = F^{-1}_{Exp<R^{-1}>}(\\frac{k}{100}) = \\frac{-log(1-\\frac{k}{100})}{\\mu-\\lambda} = -log(1-\\frac{k}{100})R$$"
   ]
  },
  {
   "cell_type": "code",
   "execution_count": 10,
   "id": "1fe76c51",
   "metadata": {},
   "outputs": [
    {
     "name": "stdout",
     "output_type": "stream",
     "text": [
      "With probability 90%, the system will have a Response time below 1.3048\n"
     ]
    }
   ],
   "source": [
    "def r_percentile(k):\n",
    "    theta = -np.log(1-k/100)*R\n",
    "    return theta\n",
    "\n",
    "print(\"With probability 90%, the system will have a Response time below {:.4f}\".format(r_percentile(90)))"
   ]
  }
 ],
 "metadata": {
  "kernelspec": {
   "display_name": "Python 3 (ipykernel)",
   "language": "python",
   "name": "python3"
  },
  "language_info": {
   "codemirror_mode": {
    "name": "ipython",
    "version": 3
   },
   "file_extension": ".py",
   "mimetype": "text/x-python",
   "name": "python",
   "nbconvert_exporter": "python",
   "pygments_lexer": "ipython3",
   "version": "3.9.7"
  }
 },
 "nbformat": 4,
 "nbformat_minor": 5
}
